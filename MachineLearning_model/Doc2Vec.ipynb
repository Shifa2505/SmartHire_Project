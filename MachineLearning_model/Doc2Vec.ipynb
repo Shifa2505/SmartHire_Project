{
  "nbformat": 4,
  "nbformat_minor": 0,
  "metadata": {
    "colab": {
      "provenance": []
    },
    "kernelspec": {
      "name": "python3",
      "display_name": "Python 3"
    },
    "language_info": {
      "name": "python"
    }
  },
  "cells": [
    {
      "cell_type": "code",
      "source": [
        "from gensim.models.doc2vec import Doc2Vec, TaggedDocument\n",
        "from nltk.tokenize import word_tokenize\n",
        "from bs4 import BeautifulSoup\n",
        "import pandas as pd\n",
        "import numpy as np\n",
        "import requests\n",
        "import re"
      ],
      "metadata": {
        "id": "j-85tBGX2S4C"
      },
      "execution_count": 5,
      "outputs": []
    },
    {
      "cell_type": "code",
      "source": [
        "from google.colab import drive\n",
        "\n",
        "drive.mount('/content/drive')"
      ],
      "metadata": {
        "colab": {
          "base_uri": "https://localhost:8080/"
        },
        "id": "nATo3viAO5eD",
        "outputId": "6008eaa2-5994-4912-d22c-3bc2ba594f06"
      },
      "execution_count": 2,
      "outputs": [
        {
          "output_type": "stream",
          "name": "stdout",
          "text": [
            "Mounted at /content/drive\n"
          ]
        }
      ]
    },
    {
      "cell_type": "code",
      "source": [
        "job_posting_df = pd.read_csv('/content/drive/MyDrive/hackathon_dataset/jobs.csv')\n",
        "job_posting_df.head(5)\n"
      ],
      "metadata": {
        "colab": {
          "base_uri": "https://localhost:8080/",
          "height": 617
        },
        "id": "pNuVJwGGiD-0",
        "outputId": "8ed91c1a-2383-4355-f384-ad404c621d1a"
      },
      "execution_count": 6,
      "outputs": [
        {
          "output_type": "execute_result",
          "data": {
            "text/plain": [
              "                            Uniq Id            Crawl Timestamp  \\\n",
              "0  9be62c49a0b7ebe982a4af1edaa7bc5f  2019-07-05 01:46:07 +0000   \n",
              "1  3c52d436e39f596b22519da2612f6a56  2019-07-06 08:04:50 +0000   \n",
              "2  ffad8a2396c60be2bf6d0e2ff47c58d4  2019-08-05 15:50:44 +0000   \n",
              "3  7b921f51b5c2fb862b4a5f7a54c37f75  2019-08-05 15:31:56 +0000   \n",
              "4  2d8b7d44e138a54d5dc841163138de50  2019-07-05 02:48:29 +0000   \n",
              "\n",
              "                                           Job Title  \\\n",
              "0                              Digital Media Planner   \n",
              "1                           Online Bidding Executive   \n",
              "2   Trainee Research/ Research Executive- Hi- Tec...   \n",
              "3                                  Technical Support   \n",
              "4                  Software Test Engineer -hyderabad   \n",
              "\n",
              "                     Job Salary Job Experience Required  \\\n",
              "0   Not Disclosed by Recruiter               5 - 10 yrs   \n",
              "1   Not Disclosed by Recruiter                2 - 5 yrs   \n",
              "2   Not Disclosed by Recruiter                0 - 1 yrs   \n",
              "3      2,00,000 - 4,00,000 PA.                0 - 5 yrs   \n",
              "4   Not Disclosed by Recruiter                2 - 5 yrs   \n",
              "\n",
              "                                          Key Skills  \\\n",
              "0                      Media Planning| Digital Media   \n",
              "1   pre sales| closing| software knowledge| clien...   \n",
              "2   Computer science| Fabrication| Quality check|...   \n",
              "3                                  Technical Support   \n",
              "4   manual testing| test engineering| test cases|...   \n",
              "\n",
              "                                Role Category   Location  \\\n",
              "0                                 Advertising     Mumbai   \n",
              "1                                Retail Sales  Pune,Pune   \n",
              "2                                         R&D    Gurgaon   \n",
              "3  Admin/Maintenance/Security/Datawarehousing     Mumbai   \n",
              "4                        Programming & Design  Hyderabad   \n",
              "\n",
              "                                     Functional Area  \\\n",
              "0  Marketing , Advertising , MR , PR , Media Plan...   \n",
              "1              Sales , Retail , Business Development   \n",
              "2                           Engineering Design , R&D   \n",
              "3  IT Software - Application Programming , Mainte...   \n",
              "4                         IT Software - QA & Testing   \n",
              "\n",
              "                                Industry                              Role  \n",
              "0  Advertising, PR, MR, Event Management  Media Planning Executive/Manager  \n",
              "1         IT-Software, Software Services           Sales Executive/Officer  \n",
              "2                  Recruitment, Staffing                     R&D Executive  \n",
              "3         IT-Software, Software Services        Technical Support Engineer  \n",
              "4         IT-Software, Software Services                  Testing Engineer  "
            ],
            "text/html": [
              "\n",
              "  <div id=\"df-aaa627ab-a5cc-453a-a2a3-a3ff38467c32\">\n",
              "    <div class=\"colab-df-container\">\n",
              "      <div>\n",
              "<style scoped>\n",
              "    .dataframe tbody tr th:only-of-type {\n",
              "        vertical-align: middle;\n",
              "    }\n",
              "\n",
              "    .dataframe tbody tr th {\n",
              "        vertical-align: top;\n",
              "    }\n",
              "\n",
              "    .dataframe thead th {\n",
              "        text-align: right;\n",
              "    }\n",
              "</style>\n",
              "<table border=\"1\" class=\"dataframe\">\n",
              "  <thead>\n",
              "    <tr style=\"text-align: right;\">\n",
              "      <th></th>\n",
              "      <th>Uniq Id</th>\n",
              "      <th>Crawl Timestamp</th>\n",
              "      <th>Job Title</th>\n",
              "      <th>Job Salary</th>\n",
              "      <th>Job Experience Required</th>\n",
              "      <th>Key Skills</th>\n",
              "      <th>Role Category</th>\n",
              "      <th>Location</th>\n",
              "      <th>Functional Area</th>\n",
              "      <th>Industry</th>\n",
              "      <th>Role</th>\n",
              "    </tr>\n",
              "  </thead>\n",
              "  <tbody>\n",
              "    <tr>\n",
              "      <th>0</th>\n",
              "      <td>9be62c49a0b7ebe982a4af1edaa7bc5f</td>\n",
              "      <td>2019-07-05 01:46:07 +0000</td>\n",
              "      <td>Digital Media Planner</td>\n",
              "      <td>Not Disclosed by Recruiter</td>\n",
              "      <td>5 - 10 yrs</td>\n",
              "      <td>Media Planning| Digital Media</td>\n",
              "      <td>Advertising</td>\n",
              "      <td>Mumbai</td>\n",
              "      <td>Marketing , Advertising , MR , PR , Media Plan...</td>\n",
              "      <td>Advertising, PR, MR, Event Management</td>\n",
              "      <td>Media Planning Executive/Manager</td>\n",
              "    </tr>\n",
              "    <tr>\n",
              "      <th>1</th>\n",
              "      <td>3c52d436e39f596b22519da2612f6a56</td>\n",
              "      <td>2019-07-06 08:04:50 +0000</td>\n",
              "      <td>Online Bidding Executive</td>\n",
              "      <td>Not Disclosed by Recruiter</td>\n",
              "      <td>2 - 5 yrs</td>\n",
              "      <td>pre sales| closing| software knowledge| clien...</td>\n",
              "      <td>Retail Sales</td>\n",
              "      <td>Pune,Pune</td>\n",
              "      <td>Sales , Retail , Business Development</td>\n",
              "      <td>IT-Software, Software Services</td>\n",
              "      <td>Sales Executive/Officer</td>\n",
              "    </tr>\n",
              "    <tr>\n",
              "      <th>2</th>\n",
              "      <td>ffad8a2396c60be2bf6d0e2ff47c58d4</td>\n",
              "      <td>2019-08-05 15:50:44 +0000</td>\n",
              "      <td>Trainee Research/ Research Executive- Hi- Tec...</td>\n",
              "      <td>Not Disclosed by Recruiter</td>\n",
              "      <td>0 - 1 yrs</td>\n",
              "      <td>Computer science| Fabrication| Quality check|...</td>\n",
              "      <td>R&amp;D</td>\n",
              "      <td>Gurgaon</td>\n",
              "      <td>Engineering Design , R&amp;D</td>\n",
              "      <td>Recruitment, Staffing</td>\n",
              "      <td>R&amp;D Executive</td>\n",
              "    </tr>\n",
              "    <tr>\n",
              "      <th>3</th>\n",
              "      <td>7b921f51b5c2fb862b4a5f7a54c37f75</td>\n",
              "      <td>2019-08-05 15:31:56 +0000</td>\n",
              "      <td>Technical Support</td>\n",
              "      <td>2,00,000 - 4,00,000 PA.</td>\n",
              "      <td>0 - 5 yrs</td>\n",
              "      <td>Technical Support</td>\n",
              "      <td>Admin/Maintenance/Security/Datawarehousing</td>\n",
              "      <td>Mumbai</td>\n",
              "      <td>IT Software - Application Programming , Mainte...</td>\n",
              "      <td>IT-Software, Software Services</td>\n",
              "      <td>Technical Support Engineer</td>\n",
              "    </tr>\n",
              "    <tr>\n",
              "      <th>4</th>\n",
              "      <td>2d8b7d44e138a54d5dc841163138de50</td>\n",
              "      <td>2019-07-05 02:48:29 +0000</td>\n",
              "      <td>Software Test Engineer -hyderabad</td>\n",
              "      <td>Not Disclosed by Recruiter</td>\n",
              "      <td>2 - 5 yrs</td>\n",
              "      <td>manual testing| test engineering| test cases|...</td>\n",
              "      <td>Programming &amp; Design</td>\n",
              "      <td>Hyderabad</td>\n",
              "      <td>IT Software - QA &amp; Testing</td>\n",
              "      <td>IT-Software, Software Services</td>\n",
              "      <td>Testing Engineer</td>\n",
              "    </tr>\n",
              "  </tbody>\n",
              "</table>\n",
              "</div>\n",
              "      <button class=\"colab-df-convert\" onclick=\"convertToInteractive('df-aaa627ab-a5cc-453a-a2a3-a3ff38467c32')\"\n",
              "              title=\"Convert this dataframe to an interactive table.\"\n",
              "              style=\"display:none;\">\n",
              "        \n",
              "  <svg xmlns=\"http://www.w3.org/2000/svg\" height=\"24px\"viewBox=\"0 0 24 24\"\n",
              "       width=\"24px\">\n",
              "    <path d=\"M0 0h24v24H0V0z\" fill=\"none\"/>\n",
              "    <path d=\"M18.56 5.44l.94 2.06.94-2.06 2.06-.94-2.06-.94-.94-2.06-.94 2.06-2.06.94zm-11 1L8.5 8.5l.94-2.06 2.06-.94-2.06-.94L8.5 2.5l-.94 2.06-2.06.94zm10 10l.94 2.06.94-2.06 2.06-.94-2.06-.94-.94-2.06-.94 2.06-2.06.94z\"/><path d=\"M17.41 7.96l-1.37-1.37c-.4-.4-.92-.59-1.43-.59-.52 0-1.04.2-1.43.59L10.3 9.45l-7.72 7.72c-.78.78-.78 2.05 0 2.83L4 21.41c.39.39.9.59 1.41.59.51 0 1.02-.2 1.41-.59l7.78-7.78 2.81-2.81c.8-.78.8-2.07 0-2.86zM5.41 20L4 18.59l7.72-7.72 1.47 1.35L5.41 20z\"/>\n",
              "  </svg>\n",
              "      </button>\n",
              "      \n",
              "  <style>\n",
              "    .colab-df-container {\n",
              "      display:flex;\n",
              "      flex-wrap:wrap;\n",
              "      gap: 12px;\n",
              "    }\n",
              "\n",
              "    .colab-df-convert {\n",
              "      background-color: #E8F0FE;\n",
              "      border: none;\n",
              "      border-radius: 50%;\n",
              "      cursor: pointer;\n",
              "      display: none;\n",
              "      fill: #1967D2;\n",
              "      height: 32px;\n",
              "      padding: 0 0 0 0;\n",
              "      width: 32px;\n",
              "    }\n",
              "\n",
              "    .colab-df-convert:hover {\n",
              "      background-color: #E2EBFA;\n",
              "      box-shadow: 0px 1px 2px rgba(60, 64, 67, 0.3), 0px 1px 3px 1px rgba(60, 64, 67, 0.15);\n",
              "      fill: #174EA6;\n",
              "    }\n",
              "\n",
              "    [theme=dark] .colab-df-convert {\n",
              "      background-color: #3B4455;\n",
              "      fill: #D2E3FC;\n",
              "    }\n",
              "\n",
              "    [theme=dark] .colab-df-convert:hover {\n",
              "      background-color: #434B5C;\n",
              "      box-shadow: 0px 1px 3px 1px rgba(0, 0, 0, 0.15);\n",
              "      filter: drop-shadow(0px 1px 2px rgba(0, 0, 0, 0.3));\n",
              "      fill: #FFFFFF;\n",
              "    }\n",
              "  </style>\n",
              "\n",
              "      <script>\n",
              "        const buttonEl =\n",
              "          document.querySelector('#df-aaa627ab-a5cc-453a-a2a3-a3ff38467c32 button.colab-df-convert');\n",
              "        buttonEl.style.display =\n",
              "          google.colab.kernel.accessAllowed ? 'block' : 'none';\n",
              "\n",
              "        async function convertToInteractive(key) {\n",
              "          const element = document.querySelector('#df-aaa627ab-a5cc-453a-a2a3-a3ff38467c32');\n",
              "          const dataTable =\n",
              "            await google.colab.kernel.invokeFunction('convertToInteractive',\n",
              "                                                     [key], {});\n",
              "          if (!dataTable) return;\n",
              "\n",
              "          const docLinkHtml = 'Like what you see? Visit the ' +\n",
              "            '<a target=\"_blank\" href=https://colab.research.google.com/notebooks/data_table.ipynb>data table notebook</a>'\n",
              "            + ' to learn more about interactive tables.';\n",
              "          element.innerHTML = '';\n",
              "          dataTable['output_type'] = 'display_data';\n",
              "          await google.colab.output.renderOutput(dataTable, element);\n",
              "          const docLink = document.createElement('div');\n",
              "          docLink.innerHTML = docLinkHtml;\n",
              "          element.appendChild(docLink);\n",
              "        }\n",
              "      </script>\n",
              "    </div>\n",
              "  </div>\n",
              "  "
            ]
          },
          "metadata": {},
          "execution_count": 6
        }
      ]
    },
    {
      "cell_type": "code",
      "source": [
        "job_posting_df.drop(['Uniq Id', 'Crawl Timestamp'], axis= 1, inplace = True)"
      ],
      "metadata": {
        "id": "qMx9ZuBRrEsw"
      },
      "execution_count": 7,
      "outputs": []
    },
    {
      "cell_type": "code",
      "source": [
        "resume_df = pd.read_csv('/content/drive/MyDrive/hackathon_dataset/resume.csv')\n",
        "resume_df.head(5)"
      ],
      "metadata": {
        "colab": {
          "base_uri": "https://localhost:8080/",
          "height": 206
        },
        "id": "JthHsWhTqBWI",
        "outputId": "1b6f3daf-9ffa-4055-c48c-6aaa31219ae3"
      },
      "execution_count": 8,
      "outputs": [
        {
          "output_type": "execute_result",
          "data": {
            "text/plain": [
              "       Category                                             Resume\n",
              "0  Data Science  Skills * Programming Languages: Python (pandas...\n",
              "1  Data Science  Education Details \\r\\nMay 2013 to May 2017 B.E...\n",
              "2  Data Science  Areas of Interest Deep Learning, Control Syste...\n",
              "3  Data Science  Skills â¢ R â¢ Python â¢ SAP HANA â¢ Table...\n",
              "4  Data Science  Education Details \\r\\n MCA   YMCAUST,  Faridab..."
            ],
            "text/html": [
              "\n",
              "  <div id=\"df-e333e42b-dc4e-4922-8c59-12a8de20d0df\">\n",
              "    <div class=\"colab-df-container\">\n",
              "      <div>\n",
              "<style scoped>\n",
              "    .dataframe tbody tr th:only-of-type {\n",
              "        vertical-align: middle;\n",
              "    }\n",
              "\n",
              "    .dataframe tbody tr th {\n",
              "        vertical-align: top;\n",
              "    }\n",
              "\n",
              "    .dataframe thead th {\n",
              "        text-align: right;\n",
              "    }\n",
              "</style>\n",
              "<table border=\"1\" class=\"dataframe\">\n",
              "  <thead>\n",
              "    <tr style=\"text-align: right;\">\n",
              "      <th></th>\n",
              "      <th>Category</th>\n",
              "      <th>Resume</th>\n",
              "    </tr>\n",
              "  </thead>\n",
              "  <tbody>\n",
              "    <tr>\n",
              "      <th>0</th>\n",
              "      <td>Data Science</td>\n",
              "      <td>Skills * Programming Languages: Python (pandas...</td>\n",
              "    </tr>\n",
              "    <tr>\n",
              "      <th>1</th>\n",
              "      <td>Data Science</td>\n",
              "      <td>Education Details \\r\\nMay 2013 to May 2017 B.E...</td>\n",
              "    </tr>\n",
              "    <tr>\n",
              "      <th>2</th>\n",
              "      <td>Data Science</td>\n",
              "      <td>Areas of Interest Deep Learning, Control Syste...</td>\n",
              "    </tr>\n",
              "    <tr>\n",
              "      <th>3</th>\n",
              "      <td>Data Science</td>\n",
              "      <td>Skills â¢ R â¢ Python â¢ SAP HANA â¢ Table...</td>\n",
              "    </tr>\n",
              "    <tr>\n",
              "      <th>4</th>\n",
              "      <td>Data Science</td>\n",
              "      <td>Education Details \\r\\n MCA   YMCAUST,  Faridab...</td>\n",
              "    </tr>\n",
              "  </tbody>\n",
              "</table>\n",
              "</div>\n",
              "      <button class=\"colab-df-convert\" onclick=\"convertToInteractive('df-e333e42b-dc4e-4922-8c59-12a8de20d0df')\"\n",
              "              title=\"Convert this dataframe to an interactive table.\"\n",
              "              style=\"display:none;\">\n",
              "        \n",
              "  <svg xmlns=\"http://www.w3.org/2000/svg\" height=\"24px\"viewBox=\"0 0 24 24\"\n",
              "       width=\"24px\">\n",
              "    <path d=\"M0 0h24v24H0V0z\" fill=\"none\"/>\n",
              "    <path d=\"M18.56 5.44l.94 2.06.94-2.06 2.06-.94-2.06-.94-.94-2.06-.94 2.06-2.06.94zm-11 1L8.5 8.5l.94-2.06 2.06-.94-2.06-.94L8.5 2.5l-.94 2.06-2.06.94zm10 10l.94 2.06.94-2.06 2.06-.94-2.06-.94-.94-2.06-.94 2.06-2.06.94z\"/><path d=\"M17.41 7.96l-1.37-1.37c-.4-.4-.92-.59-1.43-.59-.52 0-1.04.2-1.43.59L10.3 9.45l-7.72 7.72c-.78.78-.78 2.05 0 2.83L4 21.41c.39.39.9.59 1.41.59.51 0 1.02-.2 1.41-.59l7.78-7.78 2.81-2.81c.8-.78.8-2.07 0-2.86zM5.41 20L4 18.59l7.72-7.72 1.47 1.35L5.41 20z\"/>\n",
              "  </svg>\n",
              "      </button>\n",
              "      \n",
              "  <style>\n",
              "    .colab-df-container {\n",
              "      display:flex;\n",
              "      flex-wrap:wrap;\n",
              "      gap: 12px;\n",
              "    }\n",
              "\n",
              "    .colab-df-convert {\n",
              "      background-color: #E8F0FE;\n",
              "      border: none;\n",
              "      border-radius: 50%;\n",
              "      cursor: pointer;\n",
              "      display: none;\n",
              "      fill: #1967D2;\n",
              "      height: 32px;\n",
              "      padding: 0 0 0 0;\n",
              "      width: 32px;\n",
              "    }\n",
              "\n",
              "    .colab-df-convert:hover {\n",
              "      background-color: #E2EBFA;\n",
              "      box-shadow: 0px 1px 2px rgba(60, 64, 67, 0.3), 0px 1px 3px 1px rgba(60, 64, 67, 0.15);\n",
              "      fill: #174EA6;\n",
              "    }\n",
              "\n",
              "    [theme=dark] .colab-df-convert {\n",
              "      background-color: #3B4455;\n",
              "      fill: #D2E3FC;\n",
              "    }\n",
              "\n",
              "    [theme=dark] .colab-df-convert:hover {\n",
              "      background-color: #434B5C;\n",
              "      box-shadow: 0px 1px 3px 1px rgba(0, 0, 0, 0.15);\n",
              "      filter: drop-shadow(0px 1px 2px rgba(0, 0, 0, 0.3));\n",
              "      fill: #FFFFFF;\n",
              "    }\n",
              "  </style>\n",
              "\n",
              "      <script>\n",
              "        const buttonEl =\n",
              "          document.querySelector('#df-e333e42b-dc4e-4922-8c59-12a8de20d0df button.colab-df-convert');\n",
              "        buttonEl.style.display =\n",
              "          google.colab.kernel.accessAllowed ? 'block' : 'none';\n",
              "\n",
              "        async function convertToInteractive(key) {\n",
              "          const element = document.querySelector('#df-e333e42b-dc4e-4922-8c59-12a8de20d0df');\n",
              "          const dataTable =\n",
              "            await google.colab.kernel.invokeFunction('convertToInteractive',\n",
              "                                                     [key], {});\n",
              "          if (!dataTable) return;\n",
              "\n",
              "          const docLinkHtml = 'Like what you see? Visit the ' +\n",
              "            '<a target=\"_blank\" href=https://colab.research.google.com/notebooks/data_table.ipynb>data table notebook</a>'\n",
              "            + ' to learn more about interactive tables.';\n",
              "          element.innerHTML = '';\n",
              "          dataTable['output_type'] = 'display_data';\n",
              "          await google.colab.output.renderOutput(dataTable, element);\n",
              "          const docLink = document.createElement('div');\n",
              "          docLink.innerHTML = docLinkHtml;\n",
              "          element.appendChild(docLink);\n",
              "        }\n",
              "      </script>\n",
              "    </div>\n",
              "  </div>\n",
              "  "
            ]
          },
          "metadata": {},
          "execution_count": 8
        }
      ]
    },
    {
      "cell_type": "code",
      "source": [
        "import re\n",
        "def cleanResume(resumeText):\n",
        "    resumeText = re.sub('http\\S+\\s*', ' ', resumeText)  # remove URLs\n",
        "    resumeText = re.sub('RT|cc', ' ', resumeText)  # remove RT and cc\n",
        "    resumeText = re.sub('#\\S+', '', resumeText)  # remove hashtags\n",
        "    resumeText = re.sub('@\\S+', '  ', resumeText)  # remove mentions\n",
        "    resumeText = re.sub('[%s]' % re.escape(\"\"\"!\"#$%&'()*+,-./:;<=>?@[\\]^_`{|}~\"\"\"), ' ', resumeText)  # remove punctuations\n",
        "    resumeText = re.sub(r'[^\\x00-\\x7f]',r' ', resumeText) \n",
        "    resumeText = re.sub('\\s+', ' ', resumeText)  # remove extra whitespace\n",
        "    return resumeText\n",
        "    \n",
        "resume_df['cleaned_resume'] = resume_df.Resume.apply(lambda x: cleanResume(x))"
      ],
      "metadata": {
        "id": "fmk8pHO8rlPg"
      },
      "execution_count": 9,
      "outputs": []
    },
    {
      "cell_type": "code",
      "source": [
        "import nltk\n",
        "from nltk.corpus import stopwords\n",
        "import string"
      ],
      "metadata": {
        "id": "cx0lSJOxr7RV"
      },
      "execution_count": 10,
      "outputs": []
    },
    {
      "cell_type": "code",
      "source": [
        "PUNCT_TO_REMOVE = string.punctuation\n",
        "def remove_punctuation(text):\n",
        "    \"\"\"custom function to remove the punctuation\"\"\"\n",
        "    return text.translate(str.maketrans('', '', PUNCT_TO_REMOVE))\n",
        "resume_df['cleaned_resume'] = resume_df['cleaned_resume'].apply(lambda text: remove_punctuation(text))"
      ],
      "metadata": {
        "id": "01a0S8pEr_3w"
      },
      "execution_count": 11,
      "outputs": []
    },
    {
      "cell_type": "code",
      "source": [
        "import nltk\n",
        "nltk.download('stopwords')\n",
        "STOPWORDS = set(stopwords.words('english'))\n",
        "def remove_stopwords(text):\n",
        "    \"\"\"custom function to remove the stopwords\"\"\"\n",
        "    return \" \".join([word for word in str(text).split() if word not in STOPWORDS])\n",
        "\n",
        "resume_df['cleaned_resume'] = resume_df['cleaned_resume'].apply(lambda text: remove_stopwords(text))"
      ],
      "metadata": {
        "colab": {
          "base_uri": "https://localhost:8080/"
        },
        "id": "SJgDPluysHwL",
        "outputId": "f4618e64-890f-474a-fd35-9d55956c44fb"
      },
      "execution_count": 12,
      "outputs": [
        {
          "output_type": "stream",
          "name": "stderr",
          "text": [
            "[nltk_data] Downloading package stopwords to /root/nltk_data...\n",
            "[nltk_data]   Unzipping corpora/stopwords.zip.\n"
          ]
        }
      ]
    },
    {
      "cell_type": "code",
      "source": [
        "resume_df.drop(['Resume'], inplace= True, axis = 1)"
      ],
      "metadata": {
        "id": "SBlUssInsXYQ"
      },
      "execution_count": 13,
      "outputs": []
    },
    {
      "cell_type": "code",
      "source": [
        "resume_df.head(5)"
      ],
      "metadata": {
        "colab": {
          "base_uri": "https://localhost:8080/",
          "height": 206
        },
        "id": "icb07K2XskmQ",
        "outputId": "0472b2e7-457c-424c-9684-e6f7859652a2"
      },
      "execution_count": 14,
      "outputs": [
        {
          "output_type": "execute_result",
          "data": {
            "text/plain": [
              "       Category                                     cleaned_resume\n",
              "0  Data Science  Skills Programming Languages Python pandas num...\n",
              "1  Data Science  Education Details May 2013 May 2017 B E UIT RG...\n",
              "2  Data Science  Areas Interest Deep Learning Control System De...\n",
              "3  Data Science  Skills R Python SAP HANA Tableau SAP HANA SQL ...\n",
              "4  Data Science  Education Details MCA YMCAUST Faridabad Haryan..."
            ],
            "text/html": [
              "\n",
              "  <div id=\"df-22638fb8-ac78-448e-acc0-da3e9c6d2ba3\">\n",
              "    <div class=\"colab-df-container\">\n",
              "      <div>\n",
              "<style scoped>\n",
              "    .dataframe tbody tr th:only-of-type {\n",
              "        vertical-align: middle;\n",
              "    }\n",
              "\n",
              "    .dataframe tbody tr th {\n",
              "        vertical-align: top;\n",
              "    }\n",
              "\n",
              "    .dataframe thead th {\n",
              "        text-align: right;\n",
              "    }\n",
              "</style>\n",
              "<table border=\"1\" class=\"dataframe\">\n",
              "  <thead>\n",
              "    <tr style=\"text-align: right;\">\n",
              "      <th></th>\n",
              "      <th>Category</th>\n",
              "      <th>cleaned_resume</th>\n",
              "    </tr>\n",
              "  </thead>\n",
              "  <tbody>\n",
              "    <tr>\n",
              "      <th>0</th>\n",
              "      <td>Data Science</td>\n",
              "      <td>Skills Programming Languages Python pandas num...</td>\n",
              "    </tr>\n",
              "    <tr>\n",
              "      <th>1</th>\n",
              "      <td>Data Science</td>\n",
              "      <td>Education Details May 2013 May 2017 B E UIT RG...</td>\n",
              "    </tr>\n",
              "    <tr>\n",
              "      <th>2</th>\n",
              "      <td>Data Science</td>\n",
              "      <td>Areas Interest Deep Learning Control System De...</td>\n",
              "    </tr>\n",
              "    <tr>\n",
              "      <th>3</th>\n",
              "      <td>Data Science</td>\n",
              "      <td>Skills R Python SAP HANA Tableau SAP HANA SQL ...</td>\n",
              "    </tr>\n",
              "    <tr>\n",
              "      <th>4</th>\n",
              "      <td>Data Science</td>\n",
              "      <td>Education Details MCA YMCAUST Faridabad Haryan...</td>\n",
              "    </tr>\n",
              "  </tbody>\n",
              "</table>\n",
              "</div>\n",
              "      <button class=\"colab-df-convert\" onclick=\"convertToInteractive('df-22638fb8-ac78-448e-acc0-da3e9c6d2ba3')\"\n",
              "              title=\"Convert this dataframe to an interactive table.\"\n",
              "              style=\"display:none;\">\n",
              "        \n",
              "  <svg xmlns=\"http://www.w3.org/2000/svg\" height=\"24px\"viewBox=\"0 0 24 24\"\n",
              "       width=\"24px\">\n",
              "    <path d=\"M0 0h24v24H0V0z\" fill=\"none\"/>\n",
              "    <path d=\"M18.56 5.44l.94 2.06.94-2.06 2.06-.94-2.06-.94-.94-2.06-.94 2.06-2.06.94zm-11 1L8.5 8.5l.94-2.06 2.06-.94-2.06-.94L8.5 2.5l-.94 2.06-2.06.94zm10 10l.94 2.06.94-2.06 2.06-.94-2.06-.94-.94-2.06-.94 2.06-2.06.94z\"/><path d=\"M17.41 7.96l-1.37-1.37c-.4-.4-.92-.59-1.43-.59-.52 0-1.04.2-1.43.59L10.3 9.45l-7.72 7.72c-.78.78-.78 2.05 0 2.83L4 21.41c.39.39.9.59 1.41.59.51 0 1.02-.2 1.41-.59l7.78-7.78 2.81-2.81c.8-.78.8-2.07 0-2.86zM5.41 20L4 18.59l7.72-7.72 1.47 1.35L5.41 20z\"/>\n",
              "  </svg>\n",
              "      </button>\n",
              "      \n",
              "  <style>\n",
              "    .colab-df-container {\n",
              "      display:flex;\n",
              "      flex-wrap:wrap;\n",
              "      gap: 12px;\n",
              "    }\n",
              "\n",
              "    .colab-df-convert {\n",
              "      background-color: #E8F0FE;\n",
              "      border: none;\n",
              "      border-radius: 50%;\n",
              "      cursor: pointer;\n",
              "      display: none;\n",
              "      fill: #1967D2;\n",
              "      height: 32px;\n",
              "      padding: 0 0 0 0;\n",
              "      width: 32px;\n",
              "    }\n",
              "\n",
              "    .colab-df-convert:hover {\n",
              "      background-color: #E2EBFA;\n",
              "      box-shadow: 0px 1px 2px rgba(60, 64, 67, 0.3), 0px 1px 3px 1px rgba(60, 64, 67, 0.15);\n",
              "      fill: #174EA6;\n",
              "    }\n",
              "\n",
              "    [theme=dark] .colab-df-convert {\n",
              "      background-color: #3B4455;\n",
              "      fill: #D2E3FC;\n",
              "    }\n",
              "\n",
              "    [theme=dark] .colab-df-convert:hover {\n",
              "      background-color: #434B5C;\n",
              "      box-shadow: 0px 1px 3px 1px rgba(0, 0, 0, 0.15);\n",
              "      filter: drop-shadow(0px 1px 2px rgba(0, 0, 0, 0.3));\n",
              "      fill: #FFFFFF;\n",
              "    }\n",
              "  </style>\n",
              "\n",
              "      <script>\n",
              "        const buttonEl =\n",
              "          document.querySelector('#df-22638fb8-ac78-448e-acc0-da3e9c6d2ba3 button.colab-df-convert');\n",
              "        buttonEl.style.display =\n",
              "          google.colab.kernel.accessAllowed ? 'block' : 'none';\n",
              "\n",
              "        async function convertToInteractive(key) {\n",
              "          const element = document.querySelector('#df-22638fb8-ac78-448e-acc0-da3e9c6d2ba3');\n",
              "          const dataTable =\n",
              "            await google.colab.kernel.invokeFunction('convertToInteractive',\n",
              "                                                     [key], {});\n",
              "          if (!dataTable) return;\n",
              "\n",
              "          const docLinkHtml = 'Like what you see? Visit the ' +\n",
              "            '<a target=\"_blank\" href=https://colab.research.google.com/notebooks/data_table.ipynb>data table notebook</a>'\n",
              "            + ' to learn more about interactive tables.';\n",
              "          element.innerHTML = '';\n",
              "          dataTable['output_type'] = 'display_data';\n",
              "          await google.colab.output.renderOutput(dataTable, element);\n",
              "          const docLink = document.createElement('div');\n",
              "          docLink.innerHTML = docLinkHtml;\n",
              "          element.appendChild(docLink);\n",
              "        }\n",
              "      </script>\n",
              "    </div>\n",
              "  </div>\n",
              "  "
            ]
          },
          "metadata": {},
          "execution_count": 14
        }
      ]
    },
    {
      "cell_type": "code",
      "source": [
        "resume_df.dtypes"
      ],
      "metadata": {
        "colab": {
          "base_uri": "https://localhost:8080/"
        },
        "id": "LszzKXbRvL30",
        "outputId": "2cb0be5f-6537-47dc-a5e5-65546ceed5d1"
      },
      "execution_count": 15,
      "outputs": [
        {
          "output_type": "execute_result",
          "data": {
            "text/plain": [
              "Category          object\n",
              "cleaned_resume    object\n",
              "dtype: object"
            ]
          },
          "metadata": {},
          "execution_count": 15
        }
      ]
    },
    {
      "cell_type": "code",
      "source": [
        "# resume_df['Category'] = resume_df['Category'].fillna('').astype(str)\n",
        "resume_df['cleaned_resume'] = resume_df['cleaned_resume'].fillna('').astype(str)"
      ],
      "metadata": {
        "id": "2wU4C_2v-Ksz"
      },
      "execution_count": 74,
      "outputs": []
    },
    {
      "cell_type": "code",
      "source": [
        "\n",
        "resume_df['cleaned_resume'].apply(type).unique()"
      ],
      "metadata": {
        "colab": {
          "base_uri": "https://localhost:8080/"
        },
        "id": "pDlxGoY9-gl5",
        "outputId": "7f713351-daa5-4765-cf01-6ab54a863fed"
      },
      "execution_count": 75,
      "outputs": [
        {
          "output_type": "execute_result",
          "data": {
            "text/plain": [
              "array([<class 'str'>], dtype=object)"
            ]
          },
          "metadata": {},
          "execution_count": 75
        }
      ]
    },
    {
      "cell_type": "code",
      "source": [
        "import nltk\n",
        "nltk.download('punkt')"
      ],
      "metadata": {
        "colab": {
          "base_uri": "https://localhost:8080/"
        },
        "id": "NCJJsG8S93cg",
        "outputId": "6e140b34-b499-4412-bff5-4f5d32dc49f8"
      },
      "execution_count": 71,
      "outputs": [
        {
          "output_type": "stream",
          "name": "stderr",
          "text": [
            "[nltk_data] Downloading package punkt to /root/nltk_data...\n",
            "[nltk_data]   Package punkt is already up-to-date!\n"
          ]
        },
        {
          "output_type": "execute_result",
          "data": {
            "text/plain": [
              "True"
            ]
          },
          "metadata": {},
          "execution_count": 71
        }
      ]
    },
    {
      "cell_type": "code",
      "source": [
        "from nltk.tokenize import word_tokenize\n",
        "# words = word_tokenize(resume_df['cleaned_resume'])\n",
        "# len(words)\n",
        "\n",
        "words = []\n",
        "for resume in resume_df['cleaned_resume']:\n",
        "    words.extend(word_tokenize(resume))\n",
        "len(words)\n"
      ],
      "metadata": {
        "colab": {
          "base_uri": "https://localhost:8080/"
        },
        "id": "r58kLooJ9o1h",
        "outputId": "d00532f1-c5d3-4459-d6bb-8dbf6ed68f86"
      },
      "execution_count": 77,
      "outputs": [
        {
          "output_type": "execute_result",
          "data": {
            "text/plain": [
              "326070"
            ]
          },
          "metadata": {},
          "execution_count": 77
        }
      ]
    },
    {
      "cell_type": "code",
      "source": [
        "job_posting_df.head(5)"
      ],
      "metadata": {
        "colab": {
          "base_uri": "https://localhost:8080/",
          "height": 617
        },
        "id": "aOHF1ii5snyH",
        "outputId": "c8e55832-d1fe-4b4e-a878-0bb925777427"
      },
      "execution_count": 16,
      "outputs": [
        {
          "output_type": "execute_result",
          "data": {
            "text/plain": [
              "                                           Job Title  \\\n",
              "0                              Digital Media Planner   \n",
              "1                           Online Bidding Executive   \n",
              "2   Trainee Research/ Research Executive- Hi- Tec...   \n",
              "3                                  Technical Support   \n",
              "4                  Software Test Engineer -hyderabad   \n",
              "\n",
              "                     Job Salary Job Experience Required  \\\n",
              "0   Not Disclosed by Recruiter               5 - 10 yrs   \n",
              "1   Not Disclosed by Recruiter                2 - 5 yrs   \n",
              "2   Not Disclosed by Recruiter                0 - 1 yrs   \n",
              "3      2,00,000 - 4,00,000 PA.                0 - 5 yrs   \n",
              "4   Not Disclosed by Recruiter                2 - 5 yrs   \n",
              "\n",
              "                                          Key Skills  \\\n",
              "0                      Media Planning| Digital Media   \n",
              "1   pre sales| closing| software knowledge| clien...   \n",
              "2   Computer science| Fabrication| Quality check|...   \n",
              "3                                  Technical Support   \n",
              "4   manual testing| test engineering| test cases|...   \n",
              "\n",
              "                                Role Category   Location  \\\n",
              "0                                 Advertising     Mumbai   \n",
              "1                                Retail Sales  Pune,Pune   \n",
              "2                                         R&D    Gurgaon   \n",
              "3  Admin/Maintenance/Security/Datawarehousing     Mumbai   \n",
              "4                        Programming & Design  Hyderabad   \n",
              "\n",
              "                                     Functional Area  \\\n",
              "0  Marketing , Advertising , MR , PR , Media Plan...   \n",
              "1              Sales , Retail , Business Development   \n",
              "2                           Engineering Design , R&D   \n",
              "3  IT Software - Application Programming , Mainte...   \n",
              "4                         IT Software - QA & Testing   \n",
              "\n",
              "                                Industry                              Role  \n",
              "0  Advertising, PR, MR, Event Management  Media Planning Executive/Manager  \n",
              "1         IT-Software, Software Services           Sales Executive/Officer  \n",
              "2                  Recruitment, Staffing                     R&D Executive  \n",
              "3         IT-Software, Software Services        Technical Support Engineer  \n",
              "4         IT-Software, Software Services                  Testing Engineer  "
            ],
            "text/html": [
              "\n",
              "  <div id=\"df-02712867-4617-4853-b932-764b975f8dfa\">\n",
              "    <div class=\"colab-df-container\">\n",
              "      <div>\n",
              "<style scoped>\n",
              "    .dataframe tbody tr th:only-of-type {\n",
              "        vertical-align: middle;\n",
              "    }\n",
              "\n",
              "    .dataframe tbody tr th {\n",
              "        vertical-align: top;\n",
              "    }\n",
              "\n",
              "    .dataframe thead th {\n",
              "        text-align: right;\n",
              "    }\n",
              "</style>\n",
              "<table border=\"1\" class=\"dataframe\">\n",
              "  <thead>\n",
              "    <tr style=\"text-align: right;\">\n",
              "      <th></th>\n",
              "      <th>Job Title</th>\n",
              "      <th>Job Salary</th>\n",
              "      <th>Job Experience Required</th>\n",
              "      <th>Key Skills</th>\n",
              "      <th>Role Category</th>\n",
              "      <th>Location</th>\n",
              "      <th>Functional Area</th>\n",
              "      <th>Industry</th>\n",
              "      <th>Role</th>\n",
              "    </tr>\n",
              "  </thead>\n",
              "  <tbody>\n",
              "    <tr>\n",
              "      <th>0</th>\n",
              "      <td>Digital Media Planner</td>\n",
              "      <td>Not Disclosed by Recruiter</td>\n",
              "      <td>5 - 10 yrs</td>\n",
              "      <td>Media Planning| Digital Media</td>\n",
              "      <td>Advertising</td>\n",
              "      <td>Mumbai</td>\n",
              "      <td>Marketing , Advertising , MR , PR , Media Plan...</td>\n",
              "      <td>Advertising, PR, MR, Event Management</td>\n",
              "      <td>Media Planning Executive/Manager</td>\n",
              "    </tr>\n",
              "    <tr>\n",
              "      <th>1</th>\n",
              "      <td>Online Bidding Executive</td>\n",
              "      <td>Not Disclosed by Recruiter</td>\n",
              "      <td>2 - 5 yrs</td>\n",
              "      <td>pre sales| closing| software knowledge| clien...</td>\n",
              "      <td>Retail Sales</td>\n",
              "      <td>Pune,Pune</td>\n",
              "      <td>Sales , Retail , Business Development</td>\n",
              "      <td>IT-Software, Software Services</td>\n",
              "      <td>Sales Executive/Officer</td>\n",
              "    </tr>\n",
              "    <tr>\n",
              "      <th>2</th>\n",
              "      <td>Trainee Research/ Research Executive- Hi- Tec...</td>\n",
              "      <td>Not Disclosed by Recruiter</td>\n",
              "      <td>0 - 1 yrs</td>\n",
              "      <td>Computer science| Fabrication| Quality check|...</td>\n",
              "      <td>R&amp;D</td>\n",
              "      <td>Gurgaon</td>\n",
              "      <td>Engineering Design , R&amp;D</td>\n",
              "      <td>Recruitment, Staffing</td>\n",
              "      <td>R&amp;D Executive</td>\n",
              "    </tr>\n",
              "    <tr>\n",
              "      <th>3</th>\n",
              "      <td>Technical Support</td>\n",
              "      <td>2,00,000 - 4,00,000 PA.</td>\n",
              "      <td>0 - 5 yrs</td>\n",
              "      <td>Technical Support</td>\n",
              "      <td>Admin/Maintenance/Security/Datawarehousing</td>\n",
              "      <td>Mumbai</td>\n",
              "      <td>IT Software - Application Programming , Mainte...</td>\n",
              "      <td>IT-Software, Software Services</td>\n",
              "      <td>Technical Support Engineer</td>\n",
              "    </tr>\n",
              "    <tr>\n",
              "      <th>4</th>\n",
              "      <td>Software Test Engineer -hyderabad</td>\n",
              "      <td>Not Disclosed by Recruiter</td>\n",
              "      <td>2 - 5 yrs</td>\n",
              "      <td>manual testing| test engineering| test cases|...</td>\n",
              "      <td>Programming &amp; Design</td>\n",
              "      <td>Hyderabad</td>\n",
              "      <td>IT Software - QA &amp; Testing</td>\n",
              "      <td>IT-Software, Software Services</td>\n",
              "      <td>Testing Engineer</td>\n",
              "    </tr>\n",
              "  </tbody>\n",
              "</table>\n",
              "</div>\n",
              "      <button class=\"colab-df-convert\" onclick=\"convertToInteractive('df-02712867-4617-4853-b932-764b975f8dfa')\"\n",
              "              title=\"Convert this dataframe to an interactive table.\"\n",
              "              style=\"display:none;\">\n",
              "        \n",
              "  <svg xmlns=\"http://www.w3.org/2000/svg\" height=\"24px\"viewBox=\"0 0 24 24\"\n",
              "       width=\"24px\">\n",
              "    <path d=\"M0 0h24v24H0V0z\" fill=\"none\"/>\n",
              "    <path d=\"M18.56 5.44l.94 2.06.94-2.06 2.06-.94-2.06-.94-.94-2.06-.94 2.06-2.06.94zm-11 1L8.5 8.5l.94-2.06 2.06-.94-2.06-.94L8.5 2.5l-.94 2.06-2.06.94zm10 10l.94 2.06.94-2.06 2.06-.94-2.06-.94-.94-2.06-.94 2.06-2.06.94z\"/><path d=\"M17.41 7.96l-1.37-1.37c-.4-.4-.92-.59-1.43-.59-.52 0-1.04.2-1.43.59L10.3 9.45l-7.72 7.72c-.78.78-.78 2.05 0 2.83L4 21.41c.39.39.9.59 1.41.59.51 0 1.02-.2 1.41-.59l7.78-7.78 2.81-2.81c.8-.78.8-2.07 0-2.86zM5.41 20L4 18.59l7.72-7.72 1.47 1.35L5.41 20z\"/>\n",
              "  </svg>\n",
              "      </button>\n",
              "      \n",
              "  <style>\n",
              "    .colab-df-container {\n",
              "      display:flex;\n",
              "      flex-wrap:wrap;\n",
              "      gap: 12px;\n",
              "    }\n",
              "\n",
              "    .colab-df-convert {\n",
              "      background-color: #E8F0FE;\n",
              "      border: none;\n",
              "      border-radius: 50%;\n",
              "      cursor: pointer;\n",
              "      display: none;\n",
              "      fill: #1967D2;\n",
              "      height: 32px;\n",
              "      padding: 0 0 0 0;\n",
              "      width: 32px;\n",
              "    }\n",
              "\n",
              "    .colab-df-convert:hover {\n",
              "      background-color: #E2EBFA;\n",
              "      box-shadow: 0px 1px 2px rgba(60, 64, 67, 0.3), 0px 1px 3px 1px rgba(60, 64, 67, 0.15);\n",
              "      fill: #174EA6;\n",
              "    }\n",
              "\n",
              "    [theme=dark] .colab-df-convert {\n",
              "      background-color: #3B4455;\n",
              "      fill: #D2E3FC;\n",
              "    }\n",
              "\n",
              "    [theme=dark] .colab-df-convert:hover {\n",
              "      background-color: #434B5C;\n",
              "      box-shadow: 0px 1px 3px 1px rgba(0, 0, 0, 0.15);\n",
              "      filter: drop-shadow(0px 1px 2px rgba(0, 0, 0, 0.3));\n",
              "      fill: #FFFFFF;\n",
              "    }\n",
              "  </style>\n",
              "\n",
              "      <script>\n",
              "        const buttonEl =\n",
              "          document.querySelector('#df-02712867-4617-4853-b932-764b975f8dfa button.colab-df-convert');\n",
              "        buttonEl.style.display =\n",
              "          google.colab.kernel.accessAllowed ? 'block' : 'none';\n",
              "\n",
              "        async function convertToInteractive(key) {\n",
              "          const element = document.querySelector('#df-02712867-4617-4853-b932-764b975f8dfa');\n",
              "          const dataTable =\n",
              "            await google.colab.kernel.invokeFunction('convertToInteractive',\n",
              "                                                     [key], {});\n",
              "          if (!dataTable) return;\n",
              "\n",
              "          const docLinkHtml = 'Like what you see? Visit the ' +\n",
              "            '<a target=\"_blank\" href=https://colab.research.google.com/notebooks/data_table.ipynb>data table notebook</a>'\n",
              "            + ' to learn more about interactive tables.';\n",
              "          element.innerHTML = '';\n",
              "          dataTable['output_type'] = 'display_data';\n",
              "          await google.colab.output.renderOutput(dataTable, element);\n",
              "          const docLink = document.createElement('div');\n",
              "          docLink.innerHTML = docLinkHtml;\n",
              "          element.appendChild(docLink);\n",
              "        }\n",
              "      </script>\n",
              "    </div>\n",
              "  </div>\n",
              "  "
            ]
          },
          "metadata": {},
          "execution_count": 16
        }
      ]
    },
    {
      "cell_type": "code",
      "source": [
        "job_posting_df['job_description'] = job_posting_df['Job Title'] + \" \" + job_posting_df['Role'] + \" \" + job_posting_df['Key Skills'] + \" \" + job_posting_df['Location']"
      ],
      "metadata": {
        "id": "3G28yOBDsv1N"
      },
      "execution_count": 17,
      "outputs": []
    },
    {
      "cell_type": "code",
      "source": [
        "job_posting_df['Role'] = job_posting_df['Role'].fillna('').astype(str)\n",
        "job_posting_df['Industry'] = job_posting_df['Industry'].fillna('').astype(str)\n",
        "job_posting_df['Functional Area'] = job_posting_df['Functional Area'].fillna('').astype(str)\n",
        "job_posting_df['Location'] = job_posting_df['Location'].fillna('').astype(str)\n",
        "job_posting_df['Role Category'] = job_posting_df['Role Category'].fillna('').astype(str)\n",
        "job_posting_df['Key Skills'] = job_posting_df['Key Skills'].fillna('').astype(str)\n",
        "job_posting_df['Job Experience Required'] = job_posting_df['Job Experience Required'].fillna('').astype(str)\n",
        "job_posting_df['Job Salary'] = job_posting_df['Job Salary'].fillna('').astype(str)\n",
        "job_posting_df['Job Title'] = job_posting_df['Job Title'].fillna('').astype(str)"
      ],
      "metadata": {
        "id": "Ls0_sLVt4_Ju"
      },
      "execution_count": 57,
      "outputs": []
    },
    {
      "cell_type": "code",
      "source": [
        "# job_posting_df['job_description'] = job_posting_df['job_description'].astype(str)\n",
        "\n",
        "job_posting_df['Job Title'].apply(type).unique()\n"
      ],
      "metadata": {
        "colab": {
          "base_uri": "https://localhost:8080/"
        },
        "id": "aJmvUHUu3lbz",
        "outputId": "4048bafd-c226-484c-b278-8b676bc0785b"
      },
      "execution_count": 58,
      "outputs": [
        {
          "output_type": "execute_result",
          "data": {
            "text/plain": [
              "array([<class 'str'>], dtype=object)"
            ]
          },
          "metadata": {},
          "execution_count": 58
        }
      ]
    },
    {
      "cell_type": "code",
      "source": [
        "job_posting_df.dtypes"
      ],
      "metadata": {
        "colab": {
          "base_uri": "https://localhost:8080/"
        },
        "id": "LzuBSv2yuV0V",
        "outputId": "372f6f09-c20e-4d1f-efc9-532bccc5ae86"
      },
      "execution_count": 59,
      "outputs": [
        {
          "output_type": "execute_result",
          "data": {
            "text/plain": [
              "Job Title                  object\n",
              "Job Salary                 object\n",
              "Job Experience Required    object\n",
              "Key Skills                 object\n",
              "Role Category              object\n",
              "Location                   object\n",
              "Functional Area            object\n",
              "Industry                   object\n",
              "Role                       object\n",
              "job_description            object\n",
              "dtype: object"
            ]
          },
          "metadata": {},
          "execution_count": 59
        }
      ]
    },
    {
      "cell_type": "code",
      "source": [
        "job_posting_df['job_description'].head()"
      ],
      "metadata": {
        "colab": {
          "base_uri": "https://localhost:8080/"
        },
        "id": "HoGlnMOPz4pL",
        "outputId": "eeb8c40b-9067-4019-aac1-aeb5c1b6ec93"
      },
      "execution_count": 60,
      "outputs": [
        {
          "output_type": "execute_result",
          "data": {
            "text/plain": [
              "0     Digital Media Planner Media Planning Executiv...\n",
              "1     Online Bidding Executive Sales Executive Offi...\n",
              "2     Trainee Research Research Executive Hi Tech O...\n",
              "3     Technical Support Technical Support Engineer ...\n",
              "4     Software Test Engineer hyderabad Testing Engi...\n",
              "Name: job_description, dtype: object"
            ]
          },
          "metadata": {},
          "execution_count": 60
        }
      ]
    },
    {
      "cell_type": "code",
      "source": [
        "import re\n",
        "def cleanResume(resumeText):\n",
        "    # resumeText = re.sub('http\\S+\\s*', ' ', resumeText)  # remove URLs\n",
        "    resumeText = re.sub('RT|cc', ' ', resumeText)  # remove RT and cc\n",
        "    resumeText = re.sub('#\\S+', '', resumeText)  # remove hashtags\n",
        "    resumeText = re.sub('@\\S+', '  ', resumeText)  # remove mentions\n",
        "    resumeText = re.sub('[%s]' % re.escape(\"\"\"!\"#$%&'()*+,-./:;<=>?@[\\]^_`{|}~\"\"\"), ' ', resumeText)  # remove punctuations\n",
        "    resumeText = re.sub(r'[^\\x00-\\x7f]',r' ', resumeText) \n",
        "    resumeText = re.sub('\\s+', ' ', resumeText)  # remove extra whitespace\n",
        "    return resumeText\n",
        "# job_posting_df['job_description'] = job_posting_df['job_description'].apply(lambda x: cleanResume(x) if isinstance(x, str) else x)\n",
        "obj_cols = job_posting_df.select_dtypes(include='object').columns\n",
        "job_posting_df[obj_cols] = job_posting_df[obj_cols].applymap(cleanResume)\n",
        "   \n",
        "job_posting_df['job_description'] = job_posting_df['job_description'].apply(lambda x: cleanResume(x))"
      ],
      "metadata": {
        "id": "V95_Qm-p0Cjv"
      },
      "execution_count": 61,
      "outputs": []
    },
    {
      "cell_type": "code",
      "source": [
        "words = []\n",
        "for job_posting in job_posting_df['job_description']:\n",
        "    words.extend(word_tokenize(job_posting))\n",
        "len(words)"
      ],
      "metadata": {
        "colab": {
          "base_uri": "https://localhost:8080/"
        },
        "id": "ikFmp640_2WT",
        "outputId": "27b0bab1-19ba-43e2-fba7-36b1dd142da1"
      },
      "execution_count": 80,
      "outputs": [
        {
          "output_type": "execute_result",
          "data": {
            "text/plain": [
              "614047"
            ]
          },
          "metadata": {},
          "execution_count": 80
        }
      ]
    },
    {
      "cell_type": "code",
      "source": [
        "import nltk\n",
        "from nltk.corpus import stopwords\n",
        "import string"
      ],
      "metadata": {
        "id": "DUjzmQpE0Lmr"
      },
      "execution_count": 62,
      "outputs": []
    },
    {
      "cell_type": "code",
      "source": [
        "import pandas as pd\n",
        "import gensim\n",
        "from gensim.models.doc2vec import Doc2Vec, TaggedDocument\n",
        "from nltk.tokenize import word_tokenize\n",
        "\n",
        "# Preprocess the resume dataset\n",
        "resume_df['clean_text'] = resume_df['cleaned_resume'].apply(lambda x: ' '.join([word.lower() for word in word_tokenize(x)]))\n",
        "\n",
        "# Preprocess the job posting dataset\n",
        "job_posting_df['clean_text'] = job_posting_df['job_description'].apply(lambda x: ' '.join([word.lower() for word in word_tokenize(x)]))\n",
        "\n",
        "# Combine the two datasets into one corpus\n",
        "corpus = resume_df['clean_text'].tolist() + job_posting_df['clean_text'].tolist()\n",
        "\n",
        "# Create TaggedDocument objects for each document in the corpus\n",
        "documents = [TaggedDocument(words=word_tokenize(doc), tags=[str(i)]) for i, doc in enumerate(corpus)]\n",
        "\n",
        "# Train the doc2vec model\n",
        "model = Doc2Vec(documents, vector_size=100, window=10, min_count=5, epochs=50)\n",
        "\n",
        "# Save the trained model\n",
        "model.save('resume_job.model')"
      ],
      "metadata": {
        "id": "zO_JDiOGqOME"
      },
      "execution_count": 84,
      "outputs": []
    },
    {
      "cell_type": "code",
      "source": [
        "!pip install PyPDF2"
      ],
      "metadata": {
        "colab": {
          "base_uri": "https://localhost:8080/"
        },
        "id": "SaewfRXKNpT8",
        "outputId": "c20565af-a972-4eb7-b8c4-cb673f84a7d6"
      },
      "execution_count": 86,
      "outputs": [
        {
          "output_type": "stream",
          "name": "stdout",
          "text": [
            "Looking in indexes: https://pypi.org/simple, https://us-python.pkg.dev/colab-wheels/public/simple/\n",
            "Collecting PyPDF2\n",
            "  Downloading pypdf2-3.0.1-py3-none-any.whl (232 kB)\n",
            "\u001b[2K     \u001b[90m━━━━━━━━━━━━━━━━━━━━━━━━━━━━━━━━━━━━━━━\u001b[0m \u001b[32m232.6/232.6 KB\u001b[0m \u001b[31m7.6 MB/s\u001b[0m eta \u001b[36m0:00:00\u001b[0m\n",
            "\u001b[?25hRequirement already satisfied: typing_extensions>=3.10.0.0 in /usr/local/lib/python3.9/dist-packages (from PyPDF2) (4.5.0)\n",
            "Installing collected packages: PyPDF2\n",
            "Successfully installed PyPDF2-3.0.1\n"
          ]
        }
      ]
    },
    {
      "cell_type": "code",
      "source": [
        "import PyPDF2"
      ],
      "metadata": {
        "id": "kDx3bmvmNefw"
      },
      "execution_count": 87,
      "outputs": []
    },
    {
      "cell_type": "code",
      "source": [
        "resume_path = '/content/drive/MyDrive/hackathon_dataset/resume1.pdf'\n",
        "resume1 = ''\n",
        "pdfReader1 = PyPDF2.PdfReader(resume_path)\n",
        "for i in range(len(pdfReader1.pages) ):\n",
        "  pageObj = pdfReader1.pages[i]\n",
        "  resume1 += pageObj.extract_text()\n",
        "\n",
        "resume1 = resume1.lower()\n",
        "resume1 = re.sub('[^a-z]', ' ', resume1)"
      ],
      "metadata": {
        "id": "pha_J6xvKTg0"
      },
      "execution_count": 88,
      "outputs": []
    },
    {
      "cell_type": "code",
      "source": [
        "resume_path = '/content/drive/MyDrive/hackathon_dataset/resume2.pdf'\n",
        "resume2 = ''\n",
        "pdfReader2 = PyPDF2.PdfReader(resume_path)\n",
        "for i in range(len(pdfReader2.pages) ):\n",
        "  pageObj = pdfReader2.pages[i]\n",
        "  resume2 += pageObj.extract_text()\n",
        "\n",
        "resume2 = resume2.lower()\n",
        "resume2 = re.sub('[^a-z]', ' ', resume2)"
      ],
      "metadata": {
        "id": "wPXzY8snKaro"
      },
      "execution_count": 89,
      "outputs": []
    },
    {
      "cell_type": "code",
      "source": [
        "resume_path = '/content/drive/MyDrive/hackathon_dataset/resume3.pdf'\n",
        "resume3 = ''\n",
        "pdfReader3 = PyPDF2.PdfReader(resume_path)\n",
        "for i in range(len(pdfReader3.pages) ):\n",
        "  pageObj = pdfReader3.pages[i]\n",
        "  resume3 += pageObj.extract_text()\n",
        "\n",
        "resume3 = resume3.lower()\n",
        "resume3 = re.sub('[^a-z]', ' ', resume3)"
      ],
      "metadata": {
        "id": "dbyavvDzNyr4"
      },
      "execution_count": 90,
      "outputs": []
    },
    {
      "cell_type": "code",
      "source": [
        "resume_path = '/content/drive/MyDrive/hackathon_dataset/resume4.pdf'\n",
        "resume4 = ''\n",
        "pdfReader4 = PyPDF2.PdfReader(resume_path)\n",
        "for i in range(len(pdfReader4.pages) ):\n",
        "  pageObj = pdfReader4.pages[i]\n",
        "  resume4 += pageObj.extract_text()\n",
        "\n",
        "resume4 = resume4.lower()\n",
        "resume4 = re.sub('[^a-z]', ' ', resume4)"
      ],
      "metadata": {
        "id": "hdBWkQfHN0ys"
      },
      "execution_count": 91,
      "outputs": []
    },
    {
      "cell_type": "code",
      "source": [
        "resume_list = []\n",
        "resume_list.append(resume1)\n",
        "resume_list.append(resume2)\n",
        "resume_list.append(resume3)\n",
        "resume_list.append(resume4)\n",
        "\n",
        "print(len(resume_list))"
      ],
      "metadata": {
        "colab": {
          "base_uri": "https://localhost:8080/"
        },
        "id": "tXxD1XfTN6Uo",
        "outputId": "b0b547d6-b232-4c5a-f7f0-4e5c905976a1"
      },
      "execution_count": 92,
      "outputs": [
        {
          "output_type": "stream",
          "name": "stdout",
          "text": [
            "4\n"
          ]
        }
      ]
    },
    {
      "cell_type": "code",
      "source": [
        "def extract_data(url):\n",
        "  list1 = []\n",
        "  count = 0\n",
        "  resp = requests.get(url)\n",
        "  if resp.status_code == 200:\n",
        "    soup = BeautifulSoup(resp.text,'html.parser')\n",
        "    l = soup.find(class_ = 'av-company-description-page mb-2')\n",
        "    web = ''.join([i.text for i in l.find_all(['p', 'li'])])\n",
        "    list1.append(web)\n",
        "    return web\n",
        "  else:\n",
        "    print(\"Error\")\n",
        "jd_links = ['https://datahack.analyticsvidhya.com/jobathon/clix-capital/senior-manager-growthrisk-analytics-2',\n",
        "'https://datahack.analyticsvidhya.com/jobathon/clix-capital/manager-growth-analytics-2',\n",
        "'https://datahack.analyticsvidhya.com/jobathon/clix-capital/manager-risk-analytics-2',\n",
        "'https://datahack.analyticsvidhya.com/jobathon/cropin/data-scientist-85']\n",
        "\n",
        "jd_df = pd.DataFrame(columns = ['links', 'data'])\n",
        "jd_df['links'] = jd_links\n",
        "\n",
        "for i in range(len(jd_df)):\n",
        "  jd_df['data'][i] = extract_data(jd_df['links'][i])"
      ],
      "metadata": {
        "id": "MTw9tovkN9t6"
      },
      "execution_count": 93,
      "outputs": []
    },
    {
      "cell_type": "code",
      "source": [
        "#Converting the text into lower case\n",
        "jd_df.loc[:,\"data\"] = jd_df.data.apply(lambda x : str.lower(x))\n",
        "\n",
        "#Removing the punctuations from the text\n",
        "jd_df.loc[:,\"data\"] = jd_df.data.apply(lambda x : \" \".join(re.findall('[\\w]+',x))\n",
        ")\n",
        "#Removing the numerics present in the text\n",
        "jd_df.loc[:,\"data\"] = jd_df.data.apply(lambda x : re.sub(r'\\d+','',x))"
      ],
      "metadata": {
        "id": "cAekCsv0OBBL"
      },
      "execution_count": 94,
      "outputs": []
    },
    {
      "cell_type": "code",
      "source": [
        "from scipy.stats import norm\n",
        "from scipy.stats import rv_continuous \n",
        "from scipy.special import gamma \n",
        "from scipy.stats import betaprime"
      ],
      "metadata": {
        "id": "rpaRyyMAOEZv"
      },
      "execution_count": 95,
      "outputs": []
    },
    {
      "cell_type": "code",
      "source": [
        "model = Doc2Vec.load('resume_job.model')\n",
        "cos_sim_list = []\n",
        "v2 = model.infer_vector(jd_df['data'][0].split(' '), steps=20, alpha=0.025)\n",
        "v2 = np.array(v2)\n",
        "for i in range(len(resume_list)) :\n",
        "  v1 = model.infer_vector(resume_list[i].split(' '), steps=20, alpha=0.025)\n",
        "  v1 = np.array(v1)\n",
        "  cosine_similarity = (np.dot(v1, v2)) / (np.linalg.norm(v1) * np.linalg.norm(v2))\n",
        "  final_cos = round(cosine_similarity, 3)\n",
        "  cos_sim_list.append(final_cos)\n",
        "\n",
        "print(cos_sim_list)\n"
      ],
      "metadata": {
        "colab": {
          "base_uri": "https://localhost:8080/"
        },
        "id": "NJqNXhXbOI2H",
        "outputId": "1d902088-5aea-45ec-e1b5-77465e3dbf97"
      },
      "execution_count": 104,
      "outputs": [
        {
          "output_type": "stream",
          "name": "stdout",
          "text": [
            "[0.362, 0.411, 0.365, 0.294]\n"
          ]
        }
      ]
    }
  ]
}