{
  "cells": [
    {
      "cell_type": "code",
      "execution_count": 1,
      "metadata": {
        "id": "j-85tBGX2S4C"
      },
      "outputs": [
        {
          "name": "stderr",
          "output_type": "stream",
          "text": [
            "/usr/lib/python3/dist-packages/paramiko/transport.py:236: CryptographyDeprecationWarning: Blowfish has been deprecated\n",
            "  \"class\": algorithms.Blowfish,\n"
          ]
        }
      ],
      "source": [
        "from gensim.models.doc2vec import Doc2Vec, TaggedDocument\n",
        "from nltk.tokenize import word_tokenize\n",
        "from bs4 import BeautifulSoup\n",
        "import pandas as pd\n",
        "import numpy as np\n",
        "import requests\n",
        "import re"
      ]
    },
    {
      "cell_type": "code",
      "execution_count": 2,
      "metadata": {
        "colab": {
          "base_uri": "https://localhost:8080/"
        },
        "id": "nATo3viAO5eD",
        "outputId": "6008eaa2-5994-4912-d22c-3bc2ba594f06"
      },
      "outputs": [
        {
          "name": "stdout",
          "output_type": "stream",
          "text": [
            "Mounted at /content/drive\n"
          ]
        }
      ],
      "source": [
        "from google.colab import drive\n",
        "\n",
        "drive.mount('/content/drive')"
      ]
    },
    {
      "cell_type": "code",
      "execution_count": 2,
      "metadata": {
        "colab": {
          "base_uri": "https://localhost:8080/",
          "height": 617
        },
        "id": "pNuVJwGGiD-0",
        "outputId": "8ed91c1a-2383-4355-f384-ad404c621d1a"
      },
      "outputs": [
        {
          "data": {
            "text/html": [
              "<div>\n",
              "<style scoped>\n",
              "    .dataframe tbody tr th:only-of-type {\n",
              "        vertical-align: middle;\n",
              "    }\n",
              "\n",
              "    .dataframe tbody tr th {\n",
              "        vertical-align: top;\n",
              "    }\n",
              "\n",
              "    .dataframe thead th {\n",
              "        text-align: right;\n",
              "    }\n",
              "</style>\n",
              "<table border=\"1\" class=\"dataframe\">\n",
              "  <thead>\n",
              "    <tr style=\"text-align: right;\">\n",
              "      <th></th>\n",
              "      <th>Uniq Id</th>\n",
              "      <th>Crawl Timestamp</th>\n",
              "      <th>Job Title</th>\n",
              "      <th>Job Salary</th>\n",
              "      <th>Job Experience Required</th>\n",
              "      <th>Key Skills</th>\n",
              "      <th>Role Category</th>\n",
              "      <th>Location</th>\n",
              "      <th>Functional Area</th>\n",
              "      <th>Industry</th>\n",
              "      <th>Role</th>\n",
              "    </tr>\n",
              "  </thead>\n",
              "  <tbody>\n",
              "    <tr>\n",
              "      <th>0</th>\n",
              "      <td>9be62c49a0b7ebe982a4af1edaa7bc5f</td>\n",
              "      <td>2019-07-05 01:46:07 +0000</td>\n",
              "      <td>Digital Media Planner</td>\n",
              "      <td>Not Disclosed by Recruiter</td>\n",
              "      <td>5 - 10 yrs</td>\n",
              "      <td>Media Planning| Digital Media</td>\n",
              "      <td>Advertising</td>\n",
              "      <td>Mumbai</td>\n",
              "      <td>Marketing , Advertising , MR , PR , Media Plan...</td>\n",
              "      <td>Advertising, PR, MR, Event Management</td>\n",
              "      <td>Media Planning Executive/Manager</td>\n",
              "    </tr>\n",
              "    <tr>\n",
              "      <th>1</th>\n",
              "      <td>3c52d436e39f596b22519da2612f6a56</td>\n",
              "      <td>2019-07-06 08:04:50 +0000</td>\n",
              "      <td>Online Bidding Executive</td>\n",
              "      <td>Not Disclosed by Recruiter</td>\n",
              "      <td>2 - 5 yrs</td>\n",
              "      <td>pre sales| closing| software knowledge| clien...</td>\n",
              "      <td>Retail Sales</td>\n",
              "      <td>Pune,Pune</td>\n",
              "      <td>Sales , Retail , Business Development</td>\n",
              "      <td>IT-Software, Software Services</td>\n",
              "      <td>Sales Executive/Officer</td>\n",
              "    </tr>\n",
              "    <tr>\n",
              "      <th>2</th>\n",
              "      <td>ffad8a2396c60be2bf6d0e2ff47c58d4</td>\n",
              "      <td>2019-08-05 15:50:44 +0000</td>\n",
              "      <td>Trainee Research/ Research Executive- Hi- Tec...</td>\n",
              "      <td>Not Disclosed by Recruiter</td>\n",
              "      <td>0 - 1 yrs</td>\n",
              "      <td>Computer science| Fabrication| Quality check|...</td>\n",
              "      <td>R&amp;D</td>\n",
              "      <td>Gurgaon</td>\n",
              "      <td>Engineering Design , R&amp;D</td>\n",
              "      <td>Recruitment, Staffing</td>\n",
              "      <td>R&amp;D Executive</td>\n",
              "    </tr>\n",
              "    <tr>\n",
              "      <th>3</th>\n",
              "      <td>7b921f51b5c2fb862b4a5f7a54c37f75</td>\n",
              "      <td>2019-08-05 15:31:56 +0000</td>\n",
              "      <td>Technical Support</td>\n",
              "      <td>2,00,000 - 4,00,000 PA.</td>\n",
              "      <td>0 - 5 yrs</td>\n",
              "      <td>Technical Support</td>\n",
              "      <td>Admin/Maintenance/Security/Datawarehousing</td>\n",
              "      <td>Mumbai</td>\n",
              "      <td>IT Software - Application Programming , Mainte...</td>\n",
              "      <td>IT-Software, Software Services</td>\n",
              "      <td>Technical Support Engineer</td>\n",
              "    </tr>\n",
              "    <tr>\n",
              "      <th>4</th>\n",
              "      <td>2d8b7d44e138a54d5dc841163138de50</td>\n",
              "      <td>2019-07-05 02:48:29 +0000</td>\n",
              "      <td>Software Test Engineer -hyderabad</td>\n",
              "      <td>Not Disclosed by Recruiter</td>\n",
              "      <td>2 - 5 yrs</td>\n",
              "      <td>manual testing| test engineering| test cases|...</td>\n",
              "      <td>Programming &amp; Design</td>\n",
              "      <td>Hyderabad</td>\n",
              "      <td>IT Software - QA &amp; Testing</td>\n",
              "      <td>IT-Software, Software Services</td>\n",
              "      <td>Testing Engineer</td>\n",
              "    </tr>\n",
              "  </tbody>\n",
              "</table>\n",
              "</div>"
            ],
            "text/plain": [
              "                            Uniq Id            Crawl Timestamp  \\\n",
              "0  9be62c49a0b7ebe982a4af1edaa7bc5f  2019-07-05 01:46:07 +0000   \n",
              "1  3c52d436e39f596b22519da2612f6a56  2019-07-06 08:04:50 +0000   \n",
              "2  ffad8a2396c60be2bf6d0e2ff47c58d4  2019-08-05 15:50:44 +0000   \n",
              "3  7b921f51b5c2fb862b4a5f7a54c37f75  2019-08-05 15:31:56 +0000   \n",
              "4  2d8b7d44e138a54d5dc841163138de50  2019-07-05 02:48:29 +0000   \n",
              "\n",
              "                                           Job Title  \\\n",
              "0                              Digital Media Planner   \n",
              "1                           Online Bidding Executive   \n",
              "2   Trainee Research/ Research Executive- Hi- Tec...   \n",
              "3                                  Technical Support   \n",
              "4                  Software Test Engineer -hyderabad   \n",
              "\n",
              "                     Job Salary Job Experience Required  \\\n",
              "0   Not Disclosed by Recruiter               5 - 10 yrs   \n",
              "1   Not Disclosed by Recruiter                2 - 5 yrs   \n",
              "2   Not Disclosed by Recruiter                0 - 1 yrs   \n",
              "3      2,00,000 - 4,00,000 PA.                0 - 5 yrs   \n",
              "4   Not Disclosed by Recruiter                2 - 5 yrs   \n",
              "\n",
              "                                          Key Skills  \\\n",
              "0                      Media Planning| Digital Media   \n",
              "1   pre sales| closing| software knowledge| clien...   \n",
              "2   Computer science| Fabrication| Quality check|...   \n",
              "3                                  Technical Support   \n",
              "4   manual testing| test engineering| test cases|...   \n",
              "\n",
              "                                Role Category   Location  \\\n",
              "0                                 Advertising     Mumbai   \n",
              "1                                Retail Sales  Pune,Pune   \n",
              "2                                         R&D    Gurgaon   \n",
              "3  Admin/Maintenance/Security/Datawarehousing     Mumbai   \n",
              "4                        Programming & Design  Hyderabad   \n",
              "\n",
              "                                     Functional Area  \\\n",
              "0  Marketing , Advertising , MR , PR , Media Plan...   \n",
              "1              Sales , Retail , Business Development   \n",
              "2                           Engineering Design , R&D   \n",
              "3  IT Software - Application Programming , Mainte...   \n",
              "4                         IT Software - QA & Testing   \n",
              "\n",
              "                                Industry                              Role  \n",
              "0  Advertising, PR, MR, Event Management  Media Planning Executive/Manager  \n",
              "1         IT-Software, Software Services           Sales Executive/Officer  \n",
              "2                  Recruitment, Staffing                     R&D Executive  \n",
              "3         IT-Software, Software Services        Technical Support Engineer  \n",
              "4         IT-Software, Software Services                  Testing Engineer  "
            ]
          },
          "execution_count": 2,
          "metadata": {},
          "output_type": "execute_result"
        }
      ],
      "source": [
        "job_posting_df = pd.read_csv('jobs.csv')\n",
        "job_posting_df.head(5)\n"
      ]
    },
    {
      "cell_type": "code",
      "execution_count": 3,
      "metadata": {
        "id": "qMx9ZuBRrEsw"
      },
      "outputs": [],
      "source": [
        "job_posting_df.drop(['Uniq Id', 'Crawl Timestamp'], axis= 1, inplace = True)"
      ]
    },
    {
      "cell_type": "code",
      "execution_count": 4,
      "metadata": {
        "colab": {
          "base_uri": "https://localhost:8080/",
          "height": 206
        },
        "id": "JthHsWhTqBWI",
        "outputId": "1b6f3daf-9ffa-4055-c48c-6aaa31219ae3"
      },
      "outputs": [
        {
          "data": {
            "text/html": [
              "<div>\n",
              "<style scoped>\n",
              "    .dataframe tbody tr th:only-of-type {\n",
              "        vertical-align: middle;\n",
              "    }\n",
              "\n",
              "    .dataframe tbody tr th {\n",
              "        vertical-align: top;\n",
              "    }\n",
              "\n",
              "    .dataframe thead th {\n",
              "        text-align: right;\n",
              "    }\n",
              "</style>\n",
              "<table border=\"1\" class=\"dataframe\">\n",
              "  <thead>\n",
              "    <tr style=\"text-align: right;\">\n",
              "      <th></th>\n",
              "      <th>Category</th>\n",
              "      <th>Resume</th>\n",
              "    </tr>\n",
              "  </thead>\n",
              "  <tbody>\n",
              "    <tr>\n",
              "      <th>0</th>\n",
              "      <td>Data Science</td>\n",
              "      <td>Skills * Programming Languages: Python (pandas...</td>\n",
              "    </tr>\n",
              "    <tr>\n",
              "      <th>1</th>\n",
              "      <td>Data Science</td>\n",
              "      <td>Education Details \\r\\nMay 2013 to May 2017 B.E...</td>\n",
              "    </tr>\n",
              "    <tr>\n",
              "      <th>2</th>\n",
              "      <td>Data Science</td>\n",
              "      <td>Areas of Interest Deep Learning, Control Syste...</td>\n",
              "    </tr>\n",
              "    <tr>\n",
              "      <th>3</th>\n",
              "      <td>Data Science</td>\n",
              "      <td>Skills â¢ R â¢ Python â¢ SAP HANA â¢ Table...</td>\n",
              "    </tr>\n",
              "    <tr>\n",
              "      <th>4</th>\n",
              "      <td>Data Science</td>\n",
              "      <td>Education Details \\r\\n MCA   YMCAUST,  Faridab...</td>\n",
              "    </tr>\n",
              "  </tbody>\n",
              "</table>\n",
              "</div>"
            ],
            "text/plain": [
              "       Category                                             Resume\n",
              "0  Data Science  Skills * Programming Languages: Python (pandas...\n",
              "1  Data Science  Education Details \\r\\nMay 2013 to May 2017 B.E...\n",
              "2  Data Science  Areas of Interest Deep Learning, Control Syste...\n",
              "3  Data Science  Skills â¢ R â¢ Python â¢ SAP HANA â¢ Table...\n",
              "4  Data Science  Education Details \\r\\n MCA   YMCAUST,  Faridab..."
            ]
          },
          "execution_count": 4,
          "metadata": {},
          "output_type": "execute_result"
        }
      ],
      "source": [
        "resume_df = pd.read_csv('resume.csv')\n",
        "resume_df.head(5)"
      ]
    },
    {
      "cell_type": "code",
      "execution_count": 5,
      "metadata": {
        "id": "fmk8pHO8rlPg"
      },
      "outputs": [],
      "source": [
        "import re\n",
        "def cleanResume(resumeText):\n",
        "    resumeText = re.sub('http\\S+\\s*', ' ', resumeText)  # remove URLs\n",
        "    resumeText = re.sub('RT|cc', ' ', resumeText)  # remove RT and cc\n",
        "    resumeText = re.sub('#\\S+', '', resumeText)  # remove hashtags\n",
        "    resumeText = re.sub('@\\S+', '  ', resumeText)  # remove mentions\n",
        "    resumeText = re.sub('[%s]' % re.escape(\"\"\"!\"#$%&'()*+,-./:;<=>?@[\\]^_`{|}~\"\"\"), ' ', resumeText)  # remove punctuations\n",
        "    resumeText = re.sub(r'[^\\x00-\\x7f]',r' ', resumeText) \n",
        "    resumeText = re.sub('\\s+', ' ', resumeText)  # remove extra whitespace\n",
        "    return resumeText\n",
        "    \n",
        "resume_df['cleaned_resume'] = resume_df.Resume.apply(lambda x: cleanResume(x))"
      ]
    },
    {
      "cell_type": "code",
      "execution_count": 6,
      "metadata": {
        "id": "cx0lSJOxr7RV"
      },
      "outputs": [],
      "source": [
        "import nltk\n",
        "from nltk.corpus import stopwords\n",
        "import string"
      ]
    },
    {
      "cell_type": "code",
      "execution_count": 7,
      "metadata": {
        "id": "01a0S8pEr_3w"
      },
      "outputs": [],
      "source": [
        "PUNCT_TO_REMOVE = string.punctuation\n",
        "def remove_punctuation(text):\n",
        "    \"\"\"custom function to remove the punctuation\"\"\"\n",
        "    return text.translate(str.maketrans('', '', PUNCT_TO_REMOVE))\n",
        "resume_df['cleaned_resume'] = resume_df['cleaned_resume'].apply(lambda text: remove_punctuation(text))"
      ]
    },
    {
      "cell_type": "code",
      "execution_count": 8,
      "metadata": {
        "colab": {
          "base_uri": "https://localhost:8080/"
        },
        "id": "SJgDPluysHwL",
        "outputId": "f4618e64-890f-474a-fd35-9d55956c44fb"
      },
      "outputs": [
        {
          "name": "stderr",
          "output_type": "stream",
          "text": [
            "[nltk_data] Downloading package stopwords to /home/manav/nltk_data...\n",
            "[nltk_data]   Package stopwords is already up-to-date!\n"
          ]
        }
      ],
      "source": [
        "import nltk\n",
        "nltk.download('stopwords')\n",
        "STOPWORDS = set(stopwords.words('english'))\n",
        "def remove_stopwords(text):\n",
        "    \"\"\"custom function to remove the stopwords\"\"\"\n",
        "    return \" \".join([word for word in str(text).split() if word not in STOPWORDS])\n",
        "\n",
        "resume_df['cleaned_resume'] = resume_df['cleaned_resume'].apply(lambda text: remove_stopwords(text))"
      ]
    },
    {
      "cell_type": "code",
      "execution_count": 9,
      "metadata": {
        "id": "SBlUssInsXYQ"
      },
      "outputs": [],
      "source": [
        "resume_df.drop(['Resume'], inplace= True, axis = 1)"
      ]
    },
    {
      "cell_type": "code",
      "execution_count": 10,
      "metadata": {
        "colab": {
          "base_uri": "https://localhost:8080/",
          "height": 206
        },
        "id": "icb07K2XskmQ",
        "outputId": "0472b2e7-457c-424c-9684-e6f7859652a2"
      },
      "outputs": [
        {
          "data": {
            "text/html": [
              "<div>\n",
              "<style scoped>\n",
              "    .dataframe tbody tr th:only-of-type {\n",
              "        vertical-align: middle;\n",
              "    }\n",
              "\n",
              "    .dataframe tbody tr th {\n",
              "        vertical-align: top;\n",
              "    }\n",
              "\n",
              "    .dataframe thead th {\n",
              "        text-align: right;\n",
              "    }\n",
              "</style>\n",
              "<table border=\"1\" class=\"dataframe\">\n",
              "  <thead>\n",
              "    <tr style=\"text-align: right;\">\n",
              "      <th></th>\n",
              "      <th>Category</th>\n",
              "      <th>cleaned_resume</th>\n",
              "    </tr>\n",
              "  </thead>\n",
              "  <tbody>\n",
              "    <tr>\n",
              "      <th>0</th>\n",
              "      <td>Data Science</td>\n",
              "      <td>Skills Programming Languages Python pandas num...</td>\n",
              "    </tr>\n",
              "    <tr>\n",
              "      <th>1</th>\n",
              "      <td>Data Science</td>\n",
              "      <td>Education Details May 2013 May 2017 B E UIT RG...</td>\n",
              "    </tr>\n",
              "    <tr>\n",
              "      <th>2</th>\n",
              "      <td>Data Science</td>\n",
              "      <td>Areas Interest Deep Learning Control System De...</td>\n",
              "    </tr>\n",
              "    <tr>\n",
              "      <th>3</th>\n",
              "      <td>Data Science</td>\n",
              "      <td>Skills R Python SAP HANA Tableau SAP HANA SQL ...</td>\n",
              "    </tr>\n",
              "    <tr>\n",
              "      <th>4</th>\n",
              "      <td>Data Science</td>\n",
              "      <td>Education Details MCA YMCAUST Faridabad Haryan...</td>\n",
              "    </tr>\n",
              "  </tbody>\n",
              "</table>\n",
              "</div>"
            ],
            "text/plain": [
              "       Category                                     cleaned_resume\n",
              "0  Data Science  Skills Programming Languages Python pandas num...\n",
              "1  Data Science  Education Details May 2013 May 2017 B E UIT RG...\n",
              "2  Data Science  Areas Interest Deep Learning Control System De...\n",
              "3  Data Science  Skills R Python SAP HANA Tableau SAP HANA SQL ...\n",
              "4  Data Science  Education Details MCA YMCAUST Faridabad Haryan..."
            ]
          },
          "execution_count": 10,
          "metadata": {},
          "output_type": "execute_result"
        }
      ],
      "source": [
        "resume_df.head(5)"
      ]
    },
    {
      "cell_type": "code",
      "execution_count": 12,
      "metadata": {
        "colab": {
          "base_uri": "https://localhost:8080/"
        },
        "id": "LszzKXbRvL30",
        "outputId": "2cb0be5f-6537-47dc-a5e5-65546ceed5d1"
      },
      "outputs": [
        {
          "data": {
            "text/plain": [
              "Category          object\n",
              "cleaned_resume    object\n",
              "dtype: object"
            ]
          },
          "execution_count": 12,
          "metadata": {},
          "output_type": "execute_result"
        }
      ],
      "source": [
        "resume_df.dtypes"
      ]
    },
    {
      "cell_type": "code",
      "execution_count": 13,
      "metadata": {
        "id": "2wU4C_2v-Ksz"
      },
      "outputs": [],
      "source": [
        "# resume_df['Category'] = resume_df['Category'].fillna('').astype(str)\n",
        "resume_df['cleaned_resume'] = resume_df['cleaned_resume'].fillna('').astype(str)"
      ]
    },
    {
      "cell_type": "code",
      "execution_count": 14,
      "metadata": {
        "colab": {
          "base_uri": "https://localhost:8080/"
        },
        "id": "pDlxGoY9-gl5",
        "outputId": "7f713351-daa5-4765-cf01-6ab54a863fed"
      },
      "outputs": [
        {
          "data": {
            "text/plain": [
              "array([<class 'str'>], dtype=object)"
            ]
          },
          "execution_count": 14,
          "metadata": {},
          "output_type": "execute_result"
        }
      ],
      "source": [
        "\n",
        "resume_df['cleaned_resume'].apply(type).unique()"
      ]
    },
    {
      "cell_type": "code",
      "execution_count": 15,
      "metadata": {
        "colab": {
          "base_uri": "https://localhost:8080/"
        },
        "id": "NCJJsG8S93cg",
        "outputId": "6e140b34-b499-4412-bff5-4f5d32dc49f8"
      },
      "outputs": [
        {
          "name": "stderr",
          "output_type": "stream",
          "text": [
            "[nltk_data] Downloading package punkt to /home/manav/nltk_data...\n",
            "[nltk_data]   Package punkt is already up-to-date!\n"
          ]
        },
        {
          "data": {
            "text/plain": [
              "True"
            ]
          },
          "execution_count": 15,
          "metadata": {},
          "output_type": "execute_result"
        }
      ],
      "source": [
        "import nltk\n",
        "nltk.download('punkt')"
      ]
    },
    {
      "cell_type": "code",
      "execution_count": 16,
      "metadata": {
        "colab": {
          "base_uri": "https://localhost:8080/"
        },
        "id": "r58kLooJ9o1h",
        "outputId": "d00532f1-c5d3-4459-d6bb-8dbf6ed68f86"
      },
      "outputs": [
        {
          "data": {
            "text/plain": [
              "326070"
            ]
          },
          "execution_count": 16,
          "metadata": {},
          "output_type": "execute_result"
        }
      ],
      "source": [
        "from nltk.tokenize import word_tokenize\n",
        "# words = word_tokenize(resume_df['cleaned_resume'])\n",
        "# len(words)\n",
        "\n",
        "words = []\n",
        "for resume in resume_df['cleaned_resume']:\n",
        "    words.extend(word_tokenize(resume))\n",
        "len(words)\n"
      ]
    },
    {
      "cell_type": "code",
      "execution_count": 17,
      "metadata": {
        "colab": {
          "base_uri": "https://localhost:8080/",
          "height": 617
        },
        "id": "aOHF1ii5snyH",
        "outputId": "c8e55832-d1fe-4b4e-a878-0bb925777427"
      },
      "outputs": [
        {
          "data": {
            "text/html": [
              "<div>\n",
              "<style scoped>\n",
              "    .dataframe tbody tr th:only-of-type {\n",
              "        vertical-align: middle;\n",
              "    }\n",
              "\n",
              "    .dataframe tbody tr th {\n",
              "        vertical-align: top;\n",
              "    }\n",
              "\n",
              "    .dataframe thead th {\n",
              "        text-align: right;\n",
              "    }\n",
              "</style>\n",
              "<table border=\"1\" class=\"dataframe\">\n",
              "  <thead>\n",
              "    <tr style=\"text-align: right;\">\n",
              "      <th></th>\n",
              "      <th>Job Title</th>\n",
              "      <th>Job Salary</th>\n",
              "      <th>Job Experience Required</th>\n",
              "      <th>Key Skills</th>\n",
              "      <th>Role Category</th>\n",
              "      <th>Location</th>\n",
              "      <th>Functional Area</th>\n",
              "      <th>Industry</th>\n",
              "      <th>Role</th>\n",
              "    </tr>\n",
              "  </thead>\n",
              "  <tbody>\n",
              "    <tr>\n",
              "      <th>0</th>\n",
              "      <td>Digital Media Planner</td>\n",
              "      <td>Not Disclosed by Recruiter</td>\n",
              "      <td>5 - 10 yrs</td>\n",
              "      <td>Media Planning| Digital Media</td>\n",
              "      <td>Advertising</td>\n",
              "      <td>Mumbai</td>\n",
              "      <td>Marketing , Advertising , MR , PR , Media Plan...</td>\n",
              "      <td>Advertising, PR, MR, Event Management</td>\n",
              "      <td>Media Planning Executive/Manager</td>\n",
              "    </tr>\n",
              "    <tr>\n",
              "      <th>1</th>\n",
              "      <td>Online Bidding Executive</td>\n",
              "      <td>Not Disclosed by Recruiter</td>\n",
              "      <td>2 - 5 yrs</td>\n",
              "      <td>pre sales| closing| software knowledge| clien...</td>\n",
              "      <td>Retail Sales</td>\n",
              "      <td>Pune,Pune</td>\n",
              "      <td>Sales , Retail , Business Development</td>\n",
              "      <td>IT-Software, Software Services</td>\n",
              "      <td>Sales Executive/Officer</td>\n",
              "    </tr>\n",
              "    <tr>\n",
              "      <th>2</th>\n",
              "      <td>Trainee Research/ Research Executive- Hi- Tec...</td>\n",
              "      <td>Not Disclosed by Recruiter</td>\n",
              "      <td>0 - 1 yrs</td>\n",
              "      <td>Computer science| Fabrication| Quality check|...</td>\n",
              "      <td>R&amp;D</td>\n",
              "      <td>Gurgaon</td>\n",
              "      <td>Engineering Design , R&amp;D</td>\n",
              "      <td>Recruitment, Staffing</td>\n",
              "      <td>R&amp;D Executive</td>\n",
              "    </tr>\n",
              "    <tr>\n",
              "      <th>3</th>\n",
              "      <td>Technical Support</td>\n",
              "      <td>2,00,000 - 4,00,000 PA.</td>\n",
              "      <td>0 - 5 yrs</td>\n",
              "      <td>Technical Support</td>\n",
              "      <td>Admin/Maintenance/Security/Datawarehousing</td>\n",
              "      <td>Mumbai</td>\n",
              "      <td>IT Software - Application Programming , Mainte...</td>\n",
              "      <td>IT-Software, Software Services</td>\n",
              "      <td>Technical Support Engineer</td>\n",
              "    </tr>\n",
              "    <tr>\n",
              "      <th>4</th>\n",
              "      <td>Software Test Engineer -hyderabad</td>\n",
              "      <td>Not Disclosed by Recruiter</td>\n",
              "      <td>2 - 5 yrs</td>\n",
              "      <td>manual testing| test engineering| test cases|...</td>\n",
              "      <td>Programming &amp; Design</td>\n",
              "      <td>Hyderabad</td>\n",
              "      <td>IT Software - QA &amp; Testing</td>\n",
              "      <td>IT-Software, Software Services</td>\n",
              "      <td>Testing Engineer</td>\n",
              "    </tr>\n",
              "  </tbody>\n",
              "</table>\n",
              "</div>"
            ],
            "text/plain": [
              "                                           Job Title  \\\n",
              "0                              Digital Media Planner   \n",
              "1                           Online Bidding Executive   \n",
              "2   Trainee Research/ Research Executive- Hi- Tec...   \n",
              "3                                  Technical Support   \n",
              "4                  Software Test Engineer -hyderabad   \n",
              "\n",
              "                     Job Salary Job Experience Required  \\\n",
              "0   Not Disclosed by Recruiter               5 - 10 yrs   \n",
              "1   Not Disclosed by Recruiter                2 - 5 yrs   \n",
              "2   Not Disclosed by Recruiter                0 - 1 yrs   \n",
              "3      2,00,000 - 4,00,000 PA.                0 - 5 yrs   \n",
              "4   Not Disclosed by Recruiter                2 - 5 yrs   \n",
              "\n",
              "                                          Key Skills  \\\n",
              "0                      Media Planning| Digital Media   \n",
              "1   pre sales| closing| software knowledge| clien...   \n",
              "2   Computer science| Fabrication| Quality check|...   \n",
              "3                                  Technical Support   \n",
              "4   manual testing| test engineering| test cases|...   \n",
              "\n",
              "                                Role Category   Location  \\\n",
              "0                                 Advertising     Mumbai   \n",
              "1                                Retail Sales  Pune,Pune   \n",
              "2                                         R&D    Gurgaon   \n",
              "3  Admin/Maintenance/Security/Datawarehousing     Mumbai   \n",
              "4                        Programming & Design  Hyderabad   \n",
              "\n",
              "                                     Functional Area  \\\n",
              "0  Marketing , Advertising , MR , PR , Media Plan...   \n",
              "1              Sales , Retail , Business Development   \n",
              "2                           Engineering Design , R&D   \n",
              "3  IT Software - Application Programming , Mainte...   \n",
              "4                         IT Software - QA & Testing   \n",
              "\n",
              "                                Industry                              Role  \n",
              "0  Advertising, PR, MR, Event Management  Media Planning Executive/Manager  \n",
              "1         IT-Software, Software Services           Sales Executive/Officer  \n",
              "2                  Recruitment, Staffing                     R&D Executive  \n",
              "3         IT-Software, Software Services        Technical Support Engineer  \n",
              "4         IT-Software, Software Services                  Testing Engineer  "
            ]
          },
          "execution_count": 17,
          "metadata": {},
          "output_type": "execute_result"
        }
      ],
      "source": [
        "job_posting_df.head(5)"
      ]
    },
    {
      "cell_type": "code",
      "execution_count": 20,
      "metadata": {
        "id": "3G28yOBDsv1N"
      },
      "outputs": [],
      "source": [
        "job_posting_df['job_description'] = job_posting_df['Job Title'] + \" \" + job_posting_df['Role'] + \" \" + job_posting_df['Key Skills'] + \" \" + job_posting_df['Location']"
      ]
    },
    {
      "cell_type": "code",
      "execution_count": 21,
      "metadata": {
        "id": "Ls0_sLVt4_Ju"
      },
      "outputs": [],
      "source": [
        "job_posting_df['Role'] = job_posting_df['Role'].fillna('').astype(str)\n",
        "job_posting_df['Industry'] = job_posting_df['Industry'].fillna('').astype(str)\n",
        "job_posting_df['Functional Area'] = job_posting_df['Functional Area'].fillna('').astype(str)\n",
        "job_posting_df['Location'] = job_posting_df['Location'].fillna('').astype(str)\n",
        "job_posting_df['Role Category'] = job_posting_df['Role Category'].fillna('').astype(str)\n",
        "job_posting_df['Key Skills'] = job_posting_df['Key Skills'].fillna('').astype(str)\n",
        "job_posting_df['Job Experience Required'] = job_posting_df['Job Experience Required'].fillna('').astype(str)\n",
        "job_posting_df['Job Salary'] = job_posting_df['Job Salary'].fillna('').astype(str)\n",
        "job_posting_df['Job Title'] = job_posting_df['Job Title'].fillna('').astype(str)"
      ]
    },
    {
      "cell_type": "code",
      "execution_count": 22,
      "metadata": {
        "colab": {
          "base_uri": "https://localhost:8080/"
        },
        "id": "aJmvUHUu3lbz",
        "outputId": "4048bafd-c226-484c-b278-8b676bc0785b"
      },
      "outputs": [
        {
          "data": {
            "text/plain": [
              "array([<class 'str'>], dtype=object)"
            ]
          },
          "execution_count": 22,
          "metadata": {},
          "output_type": "execute_result"
        }
      ],
      "source": [
        "# job_posting_df['job_description'] = job_posting_df['job_description'].astype(str)\n",
        "\n",
        "job_posting_df['Job Title'].apply(type).unique()\n"
      ]
    },
    {
      "cell_type": "code",
      "execution_count": 23,
      "metadata": {
        "colab": {
          "base_uri": "https://localhost:8080/"
        },
        "id": "LzuBSv2yuV0V",
        "outputId": "372f6f09-c20e-4d1f-efc9-532bccc5ae86"
      },
      "outputs": [
        {
          "data": {
            "text/plain": [
              "Job Title                  object\n",
              "Job Salary                 object\n",
              "Job Experience Required    object\n",
              "Key Skills                 object\n",
              "Role Category              object\n",
              "Location                   object\n",
              "Functional Area            object\n",
              "Industry                   object\n",
              "Role                       object\n",
              "job_description            object\n",
              "dtype: object"
            ]
          },
          "execution_count": 23,
          "metadata": {},
          "output_type": "execute_result"
        }
      ],
      "source": [
        "job_posting_df.dtypes"
      ]
    },
    {
      "cell_type": "code",
      "execution_count": 24,
      "metadata": {
        "colab": {
          "base_uri": "https://localhost:8080/"
        },
        "id": "HoGlnMOPz4pL",
        "outputId": "eeb8c40b-9067-4019-aac1-aeb5c1b6ec93"
      },
      "outputs": [
        {
          "data": {
            "text/plain": [
              "0     Digital Media Planner Media Planning Executiv...\n",
              "1     Online Bidding Executive Sales Executive/Offi...\n",
              "2     Trainee Research/ Research Executive- Hi- Tec...\n",
              "3     Technical Support Technical Support Engineer ...\n",
              "4     Software Test Engineer -hyderabad Testing Eng...\n",
              "Name: job_description, dtype: object"
            ]
          },
          "execution_count": 24,
          "metadata": {},
          "output_type": "execute_result"
        }
      ],
      "source": [
        "job_posting_df['job_description'].head()"
      ]
    },
    {
      "cell_type": "code",
      "execution_count": 25,
      "metadata": {
        "id": "V95_Qm-p0Cjv"
      },
      "outputs": [],
      "source": [
        "import re\n",
        "def cleanResume(resumeText):\n",
        "    # resumeText = re.sub('http\\S+\\s*', ' ', resumeText)  # remove URLs\n",
        "    resumeText = re.sub('RT|cc', ' ', resumeText)  # remove RT and cc\n",
        "    resumeText = re.sub('#\\S+', '', resumeText)  # remove hashtags\n",
        "    resumeText = re.sub('@\\S+', '  ', resumeText)  # remove mentions\n",
        "    resumeText = re.sub('[%s]' % re.escape(\"\"\"!\"#$%&'()*+,-./:;<=>?@[\\]^_`{|}~\"\"\"), ' ', resumeText)  # remove punctuations\n",
        "    resumeText = re.sub(r'[^\\x00-\\x7f]',r' ', resumeText) \n",
        "    resumeText = re.sub('\\s+', ' ', resumeText)  # remove extra whitespace\n",
        "    return resumeText\n",
        "# job_posting_df['job_description'] = job_posting_df['job_description'].apply(lambda x: cleanResume(x) if isinstance(x, str) else x)\n",
        "obj_cols = job_posting_df.select_dtypes(include='object').columns\n",
        "job_posting_df[obj_cols] = job_posting_df[obj_cols].applymap(cleanResume)\n",
        "   \n",
        "job_posting_df['job_description'] = job_posting_df['job_description'].apply(lambda x: cleanResume(x))"
      ]
    },
    {
      "cell_type": "code",
      "execution_count": 26,
      "metadata": {
        "colab": {
          "base_uri": "https://localhost:8080/"
        },
        "id": "ikFmp640_2WT",
        "outputId": "27b0bab1-19ba-43e2-fba7-36b1dd142da1"
      },
      "outputs": [
        {
          "data": {
            "text/plain": [
              "647721"
            ]
          },
          "execution_count": 26,
          "metadata": {},
          "output_type": "execute_result"
        }
      ],
      "source": [
        "words = []\n",
        "for job_posting in job_posting_df['job_description']:\n",
        "    words.extend(word_tokenize(job_posting))\n",
        "len(words)"
      ]
    },
    {
      "cell_type": "code",
      "execution_count": 27,
      "metadata": {
        "id": "DUjzmQpE0Lmr"
      },
      "outputs": [],
      "source": [
        "import nltk\n",
        "from nltk.corpus import stopwords\n",
        "import string"
      ]
    },
    {
      "cell_type": "code",
      "execution_count": 28,
      "metadata": {
        "id": "zO_JDiOGqOME"
      },
      "outputs": [],
      "source": [
        "import pandas as pd\n",
        "import gensim\n",
        "from gensim.models.doc2vec import Doc2Vec, TaggedDocument\n",
        "from nltk.tokenize import word_tokenize\n",
        "\n",
        "# Preprocess the resume dataset\n",
        "resume_df['clean_text'] = resume_df['cleaned_resume'].apply(lambda x: ' '.join([word.lower() for word in word_tokenize(x)]))\n",
        "\n",
        "# Preprocess the job posting dataset\n",
        "job_posting_df['clean_text'] = job_posting_df['job_description'].apply(lambda x: ' '.join([word.lower() for word in word_tokenize(x)]))\n",
        "\n",
        "# Combine the two datasets into one corpus\n",
        "corpus = resume_df['clean_text'].tolist() + job_posting_df['clean_text'].tolist()\n",
        "\n",
        "# Create TaggedDocument objects for each document in the corpus\n",
        "documents = [TaggedDocument(words=word_tokenize(doc), tags=[str(i)]) for i, doc in enumerate(corpus)]\n",
        "\n",
        "# Train the doc2vec model\n",
        "model = Doc2Vec(documents, vector_size=100, window=10, min_count=5, epochs=50)\n",
        "\n",
        "# Save the trained model\n",
        "model.save('resume_job.model')"
      ]
    },
    {
      "cell_type": "code",
      "execution_count": 86,
      "metadata": {
        "colab": {
          "base_uri": "https://localhost:8080/"
        },
        "id": "SaewfRXKNpT8",
        "outputId": "c20565af-a972-4eb7-b8c4-cb673f84a7d6"
      },
      "outputs": [
        {
          "name": "stdout",
          "output_type": "stream",
          "text": [
            "Looking in indexes: https://pypi.org/simple, https://us-python.pkg.dev/colab-wheels/public/simple/\n",
            "Collecting PyPDF2\n",
            "  Downloading pypdf2-3.0.1-py3-none-any.whl (232 kB)\n",
            "\u001b[2K     \u001b[90m━━━━━━━━━━━━━━━━━━━━━━━━━━━━━━━━━━━━━━━\u001b[0m \u001b[32m232.6/232.6 KB\u001b[0m \u001b[31m7.6 MB/s\u001b[0m eta \u001b[36m0:00:00\u001b[0m\n",
            "\u001b[?25hRequirement already satisfied: typing_extensions>=3.10.0.0 in /usr/local/lib/python3.9/dist-packages (from PyPDF2) (4.5.0)\n",
            "Installing collected packages: PyPDF2\n",
            "Successfully installed PyPDF2-3.0.1\n"
          ]
        }
      ],
      "source": [
        "!pip install PyPDF2"
      ]
    },
    {
      "cell_type": "code",
      "execution_count": 87,
      "metadata": {
        "id": "kDx3bmvmNefw"
      },
      "outputs": [],
      "source": [
        "import PyPDF2"
      ]
    },
    {
      "cell_type": "code",
      "execution_count": 88,
      "metadata": {
        "id": "pha_J6xvKTg0"
      },
      "outputs": [],
      "source": [
        "resume_path = '/content/drive/MyDrive/hackathon_dataset/resume1.pdf'\n",
        "resume1 = ''\n",
        "pdfReader1 = PyPDF2.PdfReader(resume_path)\n",
        "for i in range(len(pdfReader1.pages) ):\n",
        "  pageObj = pdfReader1.pages[i]\n",
        "  resume1 += pageObj.extract_text()\n",
        "\n",
        "resume1 = resume1.lower()\n",
        "resume1 = re.sub('[^a-z]', ' ', resume1)"
      ]
    },
    {
      "cell_type": "code",
      "execution_count": 89,
      "metadata": {
        "id": "wPXzY8snKaro"
      },
      "outputs": [],
      "source": [
        "resume_path = '/content/drive/MyDrive/hackathon_dataset/resume2.pdf'\n",
        "resume2 = ''\n",
        "pdfReader2 = PyPDF2.PdfReader(resume_path)\n",
        "for i in range(len(pdfReader2.pages) ):\n",
        "  pageObj = pdfReader2.pages[i]\n",
        "  resume2 += pageObj.extract_text()\n",
        "\n",
        "resume2 = resume2.lower()\n",
        "resume2 = re.sub('[^a-z]', ' ', resume2)"
      ]
    },
    {
      "cell_type": "code",
      "execution_count": 90,
      "metadata": {
        "id": "dbyavvDzNyr4"
      },
      "outputs": [],
      "source": [
        "resume_path = '/content/drive/MyDrive/hackathon_dataset/resume3.pdf'\n",
        "resume3 = ''\n",
        "pdfReader3 = PyPDF2.PdfReader(resume_path)\n",
        "for i in range(len(pdfReader3.pages) ):\n",
        "  pageObj = pdfReader3.pages[i]\n",
        "  resume3 += pageObj.extract_text()\n",
        "\n",
        "resume3 = resume3.lower()\n",
        "resume3 = re.sub('[^a-z]', ' ', resume3)"
      ]
    },
    {
      "cell_type": "code",
      "execution_count": 91,
      "metadata": {
        "id": "hdBWkQfHN0ys"
      },
      "outputs": [],
      "source": [
        "resume_path = '/content/drive/MyDrive/hackathon_dataset/resume4.pdf'\n",
        "resume4 = ''\n",
        "pdfReader4 = PyPDF2.PdfReader(resume_path)\n",
        "for i in range(len(pdfReader4.pages) ):\n",
        "  pageObj = pdfReader4.pages[i]\n",
        "  resume4 += pageObj.extract_text()\n",
        "\n",
        "resume4 = resume4.lower()\n",
        "resume4 = re.sub('[^a-z]', ' ', resume4)"
      ]
    },
    {
      "cell_type": "code",
      "execution_count": 92,
      "metadata": {
        "colab": {
          "base_uri": "https://localhost:8080/"
        },
        "id": "tXxD1XfTN6Uo",
        "outputId": "b0b547d6-b232-4c5a-f7f0-4e5c905976a1"
      },
      "outputs": [
        {
          "name": "stdout",
          "output_type": "stream",
          "text": [
            "4\n"
          ]
        }
      ],
      "source": [
        "resume_list = []\n",
        "resume_list.append(resume1)\n",
        "resume_list.append(resume2)\n",
        "resume_list.append(resume3)\n",
        "resume_list.append(resume4)\n",
        "\n",
        "print(len(resume_list))"
      ]
    },
    {
      "cell_type": "code",
      "execution_count": 93,
      "metadata": {
        "id": "MTw9tovkN9t6"
      },
      "outputs": [],
      "source": [
        "def extract_data(url):\n",
        "  list1 = []\n",
        "  count = 0\n",
        "  resp = requests.get(url)\n",
        "  if resp.status_code == 200:\n",
        "    soup = BeautifulSoup(resp.text,'html.parser')\n",
        "    l = soup.find(class_ = 'av-company-description-page mb-2')\n",
        "    web = ''.join([i.text for i in l.find_all(['p', 'li'])])\n",
        "    list1.append(web)\n",
        "    return web\n",
        "  else:\n",
        "    print(\"Error\")\n",
        "jd_links = ['https://datahack.analyticsvidhya.com/jobathon/clix-capital/senior-manager-growthrisk-analytics-2',\n",
        "'https://datahack.analyticsvidhya.com/jobathon/clix-capital/manager-growth-analytics-2',\n",
        "'https://datahack.analyticsvidhya.com/jobathon/clix-capital/manager-risk-analytics-2',\n",
        "'https://datahack.analyticsvidhya.com/jobathon/cropin/data-scientist-85']\n",
        "\n",
        "jd_df = pd.DataFrame(columns = ['links', 'data'])\n",
        "jd_df['links'] = jd_links\n",
        "\n",
        "for i in range(len(jd_df)):\n",
        "  jd_df['data'][i] = extract_data(jd_df['links'][i])"
      ]
    },
    {
      "cell_type": "code",
      "execution_count": 94,
      "metadata": {
        "id": "cAekCsv0OBBL"
      },
      "outputs": [],
      "source": [
        "#Converting the text into lower case\n",
        "jd_df.loc[:,\"data\"] = jd_df.data.apply(lambda x : str.lower(x))\n",
        "\n",
        "#Removing the punctuations from the text\n",
        "jd_df.loc[:,\"data\"] = jd_df.data.apply(lambda x : \" \".join(re.findall('[\\w]+',x))\n",
        ")\n",
        "#Removing the numerics present in the text\n",
        "jd_df.loc[:,\"data\"] = jd_df.data.apply(lambda x : re.sub(r'\\d+','',x))"
      ]
    },
    {
      "cell_type": "code",
      "execution_count": 95,
      "metadata": {
        "id": "rpaRyyMAOEZv"
      },
      "outputs": [],
      "source": [
        "from scipy.stats import norm\n",
        "from scipy.stats import rv_continuous \n",
        "from scipy.special import gamma \n",
        "from scipy.stats import betaprime"
      ]
    },
    {
      "cell_type": "code",
      "execution_count": 104,
      "metadata": {
        "colab": {
          "base_uri": "https://localhost:8080/"
        },
        "id": "NJqNXhXbOI2H",
        "outputId": "1d902088-5aea-45ec-e1b5-77465e3dbf97"
      },
      "outputs": [
        {
          "name": "stdout",
          "output_type": "stream",
          "text": [
            "[0.362, 0.411, 0.365, 0.294]\n"
          ]
        }
      ],
      "source": [
        "model = Doc2Vec.load('resume_job.model')\n",
        "cos_sim_list = []\n",
        "v2 = model.infer_vector(jd_df['data'][0].split(' '), steps=20, alpha=0.025)\n",
        "v2 = np.array(v2)\n",
        "for i in range(len(resume_list)) :\n",
        "  v1 = model.infer_vector(resume_list[i].split(' '), steps=20, alpha=0.025)\n",
        "  v1 = np.array(v1)\n",
        "  cosine_similarity = (np.dot(v1, v2)) / (np.linalg.norm(v1) * np.linalg.norm(v2))\n",
        "  final_cos = round(cosine_similarity, 3)\n",
        "  cos_sim_list.append(final_cos)\n",
        "\n",
        "print(cos_sim_list)\n"
      ]
    }
  ],
  "metadata": {
    "colab": {
      "provenance": []
    },
    "kernelspec": {
      "display_name": "Python 3",
      "name": "python3"
    },
    "language_info": {
      "codemirror_mode": {
        "name": "ipython",
        "version": 3
      },
      "file_extension": ".py",
      "mimetype": "text/x-python",
      "name": "python",
      "nbconvert_exporter": "python",
      "pygments_lexer": "ipython3",
      "version": "3.10.6"
    }
  },
  "nbformat": 4,
  "nbformat_minor": 0
}
